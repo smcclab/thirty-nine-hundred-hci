{
  "cells": [
    {
      "cell_type": "markdown",
      "metadata": {
        "id": "dmvAQBbQM96x"
      },
      "source": [
        "- Data Preprocessing\n",
        "- Comparing means\n",
        "- T tests\n",
        "- Analysis of variance\n",
        "- Nonparametric statistical tests\n"
      ]
    },
    {
      "cell_type": "markdown",
      "metadata": {
        "id": "dVkWGJ8MznG6"
      },
      "source": [
        "## Part 1: Preparing data for Statistcal Analysis\n",
        "\n",
        "Original Source: https://github.com/divya-gh/Spotify_Music_Analysis\n",
        "\n",
        "Data is taken from [Kaggle](https://www.kaggle.com/yamaerenay/spotify-dataset-19212020-160k-tracks) which has been authored by Yamac Eren Ay and  was collected using Spotify Web API."
      ]
    },
    {
      "cell_type": "code",
      "execution_count": null,
      "metadata": {
        "id": "_P44Z1rQM96z"
      },
      "outputs": [],
      "source": [
        "# libraries\n",
        "import matplotlib.pyplot as plt\n",
        "import numpy as np\n",
        "import pandas as pd"
      ]
    },
    {
      "cell_type": "markdown",
      "metadata": {
        "id": "8P682FEjM960"
      },
      "source": [
        "## Load Data\n"
      ]
    },
    {
      "cell_type": "code",
      "execution_count": null,
      "metadata": {
        "colab": {
          "base_uri": "https://localhost:8080/",
          "height": 495
        },
        "id": "ifaZUt46M960",
        "outputId": "5e972bc8-de8e-4877-9cd9-023e98a104e2"
      },
      "outputs": [],
      "source": [
        "file_path = \"Resources/data.csv\"\n",
        "spotify_data_df = pd.read_csv(file_path)"
      ]
    },
    {
      "cell_type": "markdown",
      "metadata": {
        "id": "-UhJLuEkM961"
      },
      "source": [
        "## Display DataFrame\n",
        "\n"
      ]
    },
    {
      "cell_type": "code",
      "execution_count": null,
      "metadata": {
        "id": "LE4YLoORM961"
      },
      "outputs": [],
      "source": [
        "spotify_data_df.head()"
      ]
    },
    {
      "cell_type": "markdown",
      "metadata": {
        "id": "3D2kJDLCM962"
      },
      "source": [
        "## Display total music releases by artists over 100 years"
      ]
    },
    {
      "cell_type": "code",
      "execution_count": null,
      "metadata": {
        "id": "WKsKMtIcM962"
      },
      "outputs": [],
      "source": [
        "rows = spotify_data_df.shape[0]\n",
        "columns = spotify_data_df.shape[1]\n",
        "total_before = pd.DataFrame({\n",
        "                     \" Total Rows\": [rows],\n",
        "                     \" Total Columns\": [columns]\n",
        "                    })\n",
        "total_before"
      ]
    },
    {
      "cell_type": "markdown",
      "metadata": {
        "id": "gslvJ-QtM962"
      },
      "source": [
        "The dataset contains a total of 1,74,389 records by artists till date and has 19 audio characteristics.\n",
        "\n",
        "## Understand and Explore Audio Characteristics\n",
        "\n",
        "Get a sense of data you collected, such as artisits, song names, popularity, etc and their types.\n"
      ]
    },
    {
      "cell_type": "code",
      "execution_count": null,
      "metadata": {
        "id": "q6E_X_QuM962"
      },
      "outputs": [],
      "source": [
        "spotify_data_df.columns"
      ]
    },
    {
      "cell_type": "code",
      "execution_count": null,
      "metadata": {
        "id": "zdQ_7_W3w4w0"
      },
      "outputs": [],
      "source": [
        "spotify_data_df.dtypes"
      ]
    },
    {
      "cell_type": "markdown",
      "metadata": {
        "id": "0tRDhpJDM963"
      },
      "source": [
        "## Feature Description: Explain how they are measured and what they mean.\n",
        "### Primary:\n",
        "    •\t- id : Song unique ID\n",
        "\n",
        "### Numerical:\n",
        "    •\t- acousticness : A confidence measure from 0.0 to 1.0 of whether the track is acoustic; 1-High , 0 -Low\n",
        "    •\t- danceability: How suitable a track is for dancing based on a combination of musical elements; 0-Least, 1-Most\n",
        "    •\t- energy: Measure of intensity and activity. Typically, energetic tracks feel fast, loud, and noisy;0-Low,1-High\n",
        "    •\t- duration_ms : Duration of song in milliseconds ranging from 200k to 300k\n",
        "    •\t- instrumentalness :Predicts whether a track contains no vocals(ex: oohh and aahh) ;1-No vocals, 0-vocal\n",
        "    •\t- valence : Musical positiveness conveyed by a track.\n",
        "            0-negative(sad, depressed, angry) ,\n",
        "            1-positive (happy, cheerful, euphoric)\n",
        "    •\t- popularity: Based on number of plays and downloads ; 0-Less Popular, 100-Very Popular\n",
        "    •\t- tempo : Overall estimated tempo of a track in beats per minutes(BPM);50-Low , 100-High\n",
        "    •\t- liveness: Detects the presence of an audience in the recording ; 0-No , 1 -Yes\n",
        "    •\t- loudness: Overall relative loudness of tracks in decibels (dB). -60 low ,0-High\n",
        "    •\t- speechiness: presence of spoken words in a track.\n",
        "              Values >0.66-entirely of spoken words.\n",
        "              Values between 0.33 and 0.66 describe tracks that may contain both music and speech,like rap music.\n",
        "              Values < 0.33 mostly music and other non-speech-like tracks.\n",
        "    •\t- year : The year music was recorded and release (1921 to 2020)\n",
        "\n",
        "### Dummy:\n",
        "    •\t- mode (0 = Minor, 1 = Major)\n",
        "    •\t- explicit (0 = No explicit content, 1 = Explicit content)\n",
        "\n",
        "### Categorical:\n",
        "    •\t- key : All keys on octave encoded as values ranging from 0 to 11, starting on C as 0, C# as 1\n",
        "    •\t- artists :Song Artist\n",
        "    •\t- release_date : Date when album released\n",
        "    •\t- name : Song Name\n"
      ]
    },
    {
      "cell_type": "markdown",
      "metadata": {
        "id": "sEXZGpeEM963"
      },
      "source": [
        "###  Interesting insights from data exploration:\n",
        "    -\tThis data is simply a sample of tracks released in those 100 years and not a complete set.\n",
        "    -\tAccording to Spotify developers site, the popularity is calculated by an algorithm and is based on the\n",
        "         total number of downloads and plays the track has had and how recent those plays are. While this is accurate for\n",
        "         newer tracks, could be a bias on older tracks.\n",
        "    -   Valance descibes the mood of the singer. It would be interesting to know that it was measured based on\n",
        "         loudness. Louder the song, happier and cheerful it is.\n",
        "    -   Not all the features are measured in the range 0-1 . ex: To plot the trending of loudness with other features\n",
        "         over time, we would have to normalize the units to fit the scale."
      ]
    },
    {
      "cell_type": "markdown",
      "metadata": {
        "id": "Dse2fTmKM963"
      },
      "source": [
        "## Preprocessing and Feature Selection\n",
        "\n",
        "- Perform basic data cleanup.\n",
        "- Select features that fit to the stats analysis interests.[link text](https://)\n",
        "- Here we keep them all."
      ]
    },
    {
      "cell_type": "code",
      "execution_count": null,
      "metadata": {
        "id": "08pXVUB00sHk"
      },
      "outputs": [],
      "source": [
        "spotify_data_df.head(5)"
      ]
    },
    {
      "cell_type": "markdown",
      "metadata": {
        "id": "n-IKBcPyM963"
      },
      "source": [
        "Data needs a cleanup:\n",
        "- Remove special charecters from the artists column.\n",
        "- Parse data types and\n",
        "- Drop Null values."
      ]
    },
    {
      "cell_type": "code",
      "execution_count": null,
      "metadata": {
        "id": "GetlXdJzM963"
      },
      "outputs": [],
      "source": [
        "# remove special characters from the column 'artist' using lstrip , rstrip  and str.replace functions (aka \"[]\")\n",
        "spotify_data_df_clean_artists= spotify_data_df.copy()\n",
        "spotify_data_df_clean_artists[\"artists\"]=spotify_data_df_clean_artists[\"artists\"].map(lambda x: x.lstrip(\"['\").rstrip(\"']\")).astype(str)\n"
      ]
    },
    {
      "cell_type": "code",
      "execution_count": null,
      "metadata": {
        "id": "ifB0K0xU1Wvw"
      },
      "outputs": [],
      "source": [
        "spotify_data_df_clean_artists.head(5)"
      ]
    },
    {
      "cell_type": "code",
      "execution_count": null,
      "metadata": {
        "id": "DTg8OpQ9M963"
      },
      "outputs": [],
      "source": [
        "# remove single and double quotes\n",
        "spotify_data_df_clean_artists[\"artists\"]=spotify_data_df_clean_artists[\"artists\"].str.replace(\"'\",\"\").str.replace('\"',\"\")"
      ]
    },
    {
      "cell_type": "code",
      "execution_count": null,
      "metadata": {
        "id": "0Fnd0YERM964"
      },
      "outputs": [],
      "source": [
        "spotify_data_df_clean_artists"
      ]
    },
    {
      "cell_type": "code",
      "execution_count": null,
      "metadata": {
        "id": "66x7mix5M964",
        "scrolled": true
      },
      "outputs": [],
      "source": [
        "# drop Null values in the df if any\n",
        "spotify_data_df_clean =spotify_data_df_clean_artists.dropna(how='any')\n",
        "spotify_data_df_clean.shape[0]"
      ]
    },
    {
      "cell_type": "markdown",
      "metadata": {
        "id": "S_m_smzkM964"
      },
      "source": [
        "**Note** : None of the rows were dropped so dataframe has no Null values\n",
        "\n",
        "All the features in interest have expected dtypes hence, no columns need any datatype conversion."
      ]
    },
    {
      "cell_type": "markdown",
      "metadata": {
        "id": "onRN6sD-M964"
      },
      "source": [
        "# Part 2: Descriptive Statistics -  Initial Analysis after Cleanup"
      ]
    },
    {
      "cell_type": "code",
      "execution_count": null,
      "metadata": {
        "id": "Fe5_pwIRM964"
      },
      "outputs": [],
      "source": [
        "spotify_data_df_clean.describe()"
      ]
    },
    {
      "cell_type": "markdown",
      "metadata": {
        "id": "DHkAYFbuM964"
      },
      "source": [
        "### Basic statistical analysis\n",
        "                       \n",
        "- No. of releases: 174389\n",
        "- Start year: 1920             \n",
        "- End Year: 2021   \n",
        "             \n",
        "Note:  From the table, we can see that there are records with loudness greater than zero. According to spotify developers site, range is between -60 to 0 db .This could be an error so we need to remove these records."
      ]
    },
    {
      "cell_type": "code",
      "execution_count": null,
      "metadata": {
        "id": "Zb0CW2jXM965"
      },
      "outputs": [],
      "source": [
        "spotify_data_df_clean = spotify_data_df_clean[spotify_data_df_clean[\"loudness\"]<0]\n",
        "loudness_after = pd.DataFrame({\n",
        "                        \"max_loudness\":[spotify_data_df_clean[\"loudness\"].max()],\n",
        "                        \"min_loudness\":[spotify_data_df_clean[\"loudness\"].min()]\n",
        "                        })\n",
        "loudness_after"
      ]
    },
    {
      "cell_type": "code",
      "execution_count": null,
      "metadata": {
        "id": "I2evoHobM965"
      },
      "outputs": [],
      "source": [
        "spotify_data_df_clean.head(3)"
      ]
    },
    {
      "cell_type": "code",
      "execution_count": null,
      "metadata": {
        "id": "Pg7YbRWU3DEA"
      },
      "outputs": [],
      "source": [
        "ideal_order = ['id','name','year', 'artists', 'duration_ms',  'release_date',\n",
        "               'energy', 'acousticness', 'danceability',\n",
        "               'explicit', 'instrumentalness', 'key', 'liveness', 'loudness',\n",
        "               'mode', 'popularity', 'speechiness', 'tempo',\n",
        "               'valence' ]\n",
        "spotify_df = spotify_data_df_clean[ideal_order]\n",
        "\n",
        "\n",
        "# Random sample of 1000 rows\n",
        "spotify_df = spotify_df.sample(n=10000, random_state=42)\n",
        "spotify_df.head(5)"
      ]
    },
    {
      "cell_type": "code",
      "execution_count": null,
      "metadata": {
        "id": "WKf7j6vEM965"
      },
      "outputs": [],
      "source": [
        "rows = spotify_df.shape[0]\n",
        "columns = spotify_df.shape[1]\n",
        "total_after = pd.DataFrame({\n",
        "                     \" Total Rows\": [rows],\n",
        "                     \" Total Columns\": [columns]\n",
        "                    })\n",
        "total_after"
      ]
    },
    {
      "cell_type": "markdown",
      "metadata": {
        "id": "N-xwcc0K4UNi"
      },
      "source": [
        "# **Part 3: T tests**\n",
        "\n",
        "## Independent Samples t-test\n",
        "\n",
        "\n",
        "### Example:\n",
        "\n",
        "Compare two *independent* groups: explicit=0 vs explicit=1.\n",
        "\n",
        "### Hypothesis:\n",
        "\n",
        "- H0: Explicit and non-explicit songs have the same mean energy.\n",
        "- H1: There is a significant difference in energy between explicit and non-explicit songs.\n"
      ]
    },
    {
      "cell_type": "markdown",
      "metadata": {},
      "source": [
        "## Check Normal Distribution\n",
        "\n",
        "choices of measures: parametric / non-parametric."
      ]
    },
    {
      "cell_type": "code",
      "execution_count": null,
      "metadata": {},
      "outputs": [],
      "source": [
        "import seaborn as sns\n",
        "import scipy.stats as stats\n",
        "\n",
        "# group the data\n",
        "group1 = spotify_df[spotify_df['explicit'] == 0]['energy']\n",
        "group2 = spotify_df[spotify_df['explicit'] == 1]['energy']\n",
        "\n",
        "# === 1. Histogram with KDE ===\n",
        "plt.figure(figsize=(10, 5))\n",
        "sns.histplot(group1, kde=True, color='blue', label='Non-Explicit', stat='density')\n",
        "sns.histplot(group2, kde=True, color='orange', label='Explicit', stat='density')\n",
        "plt.title('Histogram of Energy by Explicit Flag')\n",
        "plt.xlabel('Energy')\n",
        "plt.ylabel('Density')\n",
        "plt.legend()\n",
        "plt.show()\n",
        "\n",
        "# === 2. QQ Plots ===\n",
        "fig, axes = plt.subplots(1, 2, figsize=(12, 5))\n",
        "\n",
        "# QQ Plot for Non-Explicit\n",
        "stats.probplot(group1, dist=\"norm\", plot=axes[0])\n",
        "axes[0].set_title(\"QQ Plot - Non-Explicit\")\n",
        "\n",
        "# QQ Plot for Explicit\n",
        "stats.probplot(group2, dist=\"norm\", plot=axes[1])\n",
        "axes[1].set_title(\"QQ Plot - Explicit\")\n",
        "\n",
        "plt.tight_layout()\n",
        "plt.show()\n"
      ]
    },
    {
      "cell_type": "code",
      "execution_count": null,
      "metadata": {
        "id": "tgJcXVIT42fq"
      },
      "outputs": [],
      "source": [
        "# import t-test library\n",
        "from scipy.stats import ttest_ind\n",
        "\n",
        "group1 = spotify_df[spotify_df['explicit'] == 0]['energy']\n",
        "group2 = spotify_df[spotify_df['explicit'] == 1]['energy']\n",
        "\n",
        "print(f\"Explicit=0: {len(group1)}, Explicit=1: {len(group2)}\")\n",
        "\n",
        "# check mean difference\n",
        "mean_explicit = group2.mean()\n",
        "mean_non_explicit = group1.mean()\n",
        "\n",
        "print(f\"Mean energy (explicit): {mean_explicit:.4f}\")\n",
        "print(f\"Mean energy (non-explicit): {mean_non_explicit:.4f}\")\n",
        "print(f\"Difference: {mean_explicit - mean_non_explicit:.4f}\")\n",
        "\n",
        "# equal_var -- unequal variance\n",
        "# setting equal_var to False uses Welch's t-test\n",
        "t_stat, p_value = ttest_ind(group1, group2, equal_var=False)\n",
        "\n",
        "print(f\"t-statistic: {t_stat:.4f}, p-value: {p_value:.8f}\")\n"
      ]
    },
    {
      "cell_type": "markdown",
      "metadata": {
        "id": "5UIHAMx_F8ZM"
      },
      "source": [
        "### Plot Mean Difference"
      ]
    },
    {
      "cell_type": "code",
      "execution_count": null,
      "metadata": {
        "id": "DWvpMb44-Uv9"
      },
      "outputs": [],
      "source": [
        "import seaborn as sns\n",
        "import matplotlib.pyplot as plt\n",
        "\n",
        "sns.boxplot(x='explicit', y='energy', data=spotify_df)\n",
        "plt.title('Energy Distribution by Explicit Flag')\n",
        "plt.xticks([0, 1], ['Non-Explicit', 'Explicit'])\n",
        "plt.show()\n"
      ]
    },
    {
      "cell_type": "markdown",
      "metadata": {
        "id": "IXduLKFYG1-C"
      },
      "source": [
        "### Degree of Freedom\n",
        "\n",
        "Since groups are very different in size and may have different variances, we use Welch’s t-test, which adjusts the degrees of freedom with the Welch–Satterthwaite formula. This gives a more accurate p-value when assumptions of equal variance are violated.\n"
      ]
    },
    {
      "cell_type": "code",
      "execution_count": null,
      "metadata": {
        "id": "JALqolYEGrSS"
      },
      "outputs": [],
      "source": [
        "import numpy as np\n",
        "\n",
        "# Get sample sizes\n",
        "n1, n2 = len(group1), len(group2)\n",
        "\n",
        "# Get sample variances\n",
        "s1_sq = np.var(group1, ddof=1)\n",
        "s2_sq = np.var(group2, ddof=1)\n",
        "\n",
        "# Welch–Satterthwaite equation\n",
        "numerator = (s1_sq/n1 + s2_sq/n2)**2\n",
        "denominator = ((s1_sq/n1)**2)/(n1 - 1) + ((s2_sq/n2)**2)/(n2 - 1)\n",
        "df_welch = numerator / denominator\n",
        "\n",
        "print(f\"Welch's degrees of freedom: {df_welch:.2f}\")"
      ]
    },
    {
      "cell_type": "markdown",
      "metadata": {
        "id": "qoKw9hWrGEVg"
      },
      "source": [
        "#### T-tests Interpretation\n",
        "\n",
        "- There is a statistically significant difference in energy between explicit and non-explicit songs.\n",
        "- The negative t-statistic suggests that explicit songs have higher energy (if you did explicit=1 minus explicit=0).\n",
        "- We reject the null hypothesis (p < 0.05).\n",
        "\n",
        "**Note** Welch’s t-test was correctly used because of unequal group sizes and unknown variances."
      ]
    },
    {
      "cell_type": "markdown",
      "metadata": {
        "id": "kv6FGQmNHkLV"
      },
      "source": [
        "## Paired Samples t-test\n",
        "\n",
        "### Example: paired features from the same observation on songs.\n",
        "\n",
        "\n",
        "### Hypothesis:\n",
        "- H0: The danceability of a song and its valence are equal on average.\n",
        "- H1: The average danceability and valence differ within the same song.\n"
      ]
    },
    {
      "cell_type": "code",
      "execution_count": null,
      "metadata": {
        "id": "tJhJU3lf-kqs"
      },
      "outputs": [],
      "source": [
        "# import paired-samples t-test\n",
        "from scipy.stats import ttest_rel\n",
        "\n",
        "# check mean difference\n",
        "mean_dance = spotify_df['danceability'].mean()\n",
        "mean_valence = spotify_df['valence'].mean()\n",
        "\n",
        "print(f\"Mean Danceability: {mean_dance:.4f}\")\n",
        "print(f\"Mean Valence: {mean_valence:.4f}\")\n",
        "print(f\"Mean Difference: {mean_dance - mean_valence:.4f}\")\n",
        "\n",
        "t_stat, p_value = ttest_rel(spotify_df['danceability'], spotify_df['valence'])\n",
        "\n",
        "print(f\"t-statistic: {t_stat:.4f}, p-value: {p_value:.4f}\")\n"
      ]
    },
    {
      "cell_type": "markdown",
      "metadata": {
        "id": "Ikjm5btTJULZ"
      },
      "source": [
        "### Plot Mean Difference\n",
        "\n"
      ]
    },
    {
      "cell_type": "code",
      "execution_count": null,
      "metadata": {
        "id": "bjDM5wviIAai"
      },
      "outputs": [],
      "source": [
        "\n",
        "# distribution of differences\n",
        "diff = spotify_df['danceability'] - spotify_df['valence']\n",
        "\n",
        "sns.histplot(diff, kde=True)\n",
        "plt.axvline(0, color='red', linestyle='--')\n",
        "plt.title('Distribution of Danceability - Valence')\n",
        "plt.xlabel('Difference')\n",
        "plt.ylabel('Count')\n",
        "plt.show()\n"
      ]
    },
    {
      "cell_type": "markdown",
      "metadata": {
        "id": "OfRZAxabJXiA"
      },
      "source": [
        "#### Paired-samples t-test Interpretation\n",
        "\n",
        "- We reject the null hypothesis: The average danceability and valence scores of songs are not equal.\n",
        "- Since the t-statistic is positive, it suggests: Danceability is significantly greater than valence, on average.\n",
        "\n"
      ]
    },
    {
      "cell_type": "markdown",
      "metadata": {
        "id": "eBmG-1l9JzjM"
      },
      "source": [
        "## One-tailed t-test\n",
        "\n",
        "### Hypothesis (One-tailed):\n",
        "- H0: Popularity of songs from year <= 2010 is greater than or equal to popularity of songs from year > 2010.\n",
        "- H1: Songs from after 2010 are more popular."
      ]
    },
    {
      "cell_type": "code",
      "execution_count": null,
      "metadata": {
        "id": "N5rvxqbDJ0h6"
      },
      "outputs": [],
      "source": [
        "pre_2010 = spotify_df[spotify_df['year'] <= 2010]['popularity']\n",
        "post_2010 = spotify_df[spotify_df['year'] > 2010]['popularity']\n",
        "\n",
        "t_stat, p_value = ttest_ind(post_2010, pre_2010, equal_var=False)\n",
        "\n",
        "# one-tailed: divide p-value by 2 and check direction\n",
        "if t_stat > 0:\n",
        "    p_one_tailed = p_value / 2\n",
        "else:\n",
        "    p_one_tailed = 1 - (p_value / 2)\n",
        "\n",
        "print(f\"One-tailed p-value: {p_one_tailed:.4f}\")\n"
      ]
    },
    {
      "cell_type": "markdown",
      "metadata": {
        "id": "z9f1oQzpKwz8"
      },
      "source": [
        "### Plot Difference"
      ]
    },
    {
      "cell_type": "code",
      "execution_count": null,
      "metadata": {
        "id": "OWymu-TNKTZu"
      },
      "outputs": [],
      "source": [
        "spotify_df['era'] = spotify_df['year'].apply(lambda x: 'Pre-2010' if x <= 2010 else 'Post-2010')\n",
        "\n",
        "sns.boxplot(x='era', y='popularity', data=spotify_df)\n",
        "plt.title('Popularity: Pre-2010 vs Post-2010')\n",
        "plt.xlabel('Era')\n",
        "plt.ylabel('Popularity')\n",
        "plt.show()"
      ]
    },
    {
      "cell_type": "code",
      "execution_count": null,
      "metadata": {
        "id": "rajEzvMgKKzM"
      },
      "outputs": [],
      "source": [
        "means = spotify_df.groupby('era')['popularity'].mean()\n",
        "stds = spotify_df.groupby('era')['popularity'].std()\n",
        "counts = spotify_df.groupby('era')['popularity'].count()\n",
        "sems = stds / np.sqrt(counts)  # standard error of mean\n",
        "\n",
        "means.plot(kind='bar', yerr=sems, capsize=4, color=['gray', 'green'])\n",
        "plt.title('Mean Popularity by Era (± SEM)')\n",
        "plt.ylabel('Popularity')\n",
        "plt.show()"
      ]
    },
    {
      "cell_type": "markdown",
      "metadata": {
        "id": "SpdvuHneLL1l"
      },
      "source": [
        "### Interpretation\n",
        "\n",
        "A one-tailed t-test is appropriate when the hypothesis has a direction — whether post-2010 songs are more popular than pre-2010.\n",
        "\n",
        "The extremely low p-value shows the result is significant, and the plots show a clear shift in popularity."
      ]
    },
    {
      "cell_type": "markdown",
      "metadata": {
        "id": "sk5OQNvdLVFV"
      },
      "source": [
        "# **Part 4: ANOVA**\n",
        "\n",
        "\n",
        "### Example: Testing 3 or more groups.\n",
        "\n",
        "### Hypothesis:\n",
        "- H0: The mean tempo is the same across all keys (0–11).\n",
        "- H1: At least one key group has a significantly different mean tempo.\n"
      ]
    },
    {
      "cell_type": "code",
      "execution_count": null,
      "metadata": {
        "id": "reEneahPLUK-"
      },
      "outputs": [],
      "source": [
        "from scipy.stats import f_oneway\n",
        "\n",
        "# group by 'key' (12 groups)\n",
        "groups = [group['tempo'].values for _, group in spotify_df.groupby('key')]\n",
        "\n",
        "f_stat, p_value = f_oneway(*groups)\n",
        "\n",
        "print(f\"F-statistic: {f_stat:.4f}, P-value: {p_value:.4f}\")\n"
      ]
    },
    {
      "cell_type": "markdown",
      "metadata": {
        "id": "erznYbiajWfz"
      },
      "source": [
        "#### Interpretation\n",
        "\n",
        "p < 0.001\n",
        "\n",
        "There is a statistically significant difference in the mean value of the dependent variable across at least one of the groups in the independent variable."
      ]
    },
    {
      "cell_type": "code",
      "execution_count": null,
      "metadata": {
        "id": "acmwN755gi-r"
      },
      "outputs": [],
      "source": [
        "import statsmodels.api as sm\n",
        "from statsmodels.formula.api import ols\n",
        "\n",
        "# treat the variable key as a categorical factor (not numeric) -- variation between groups.\n",
        "model = ols('tempo ~ C(key)', data=spotify_df).fit()\n",
        "\n",
        "# Get full ANOVA table\n",
        "anova_table = sm.stats.anova_lm(model, typ=2)\n",
        "anova_table['mean_sq'] = anova_table['sum_sq'] / anova_table['df']\n",
        "anova_table['eta_sq'] = anova_table['sum_sq'] / anova_table['sum_sq'].sum()\n",
        "\n",
        "print(anova_table)"
      ]
    },
    {
      "cell_type": "markdown",
      "metadata": {
        "id": "pEl5ShnqkHk7"
      },
      "source": [
        "\n",
        "> The F-value of 33.18 tells us the between-group variance (due to key) is much greater than the within-group variance (error). The p-value < 0.001 confirms this is statistically significant. But notice the eta squared: key explains ~0.28% of the total variance in tempo — so it's significant, but not the main factor.\n",
        "\n"
      ]
    },
    {
      "cell_type": "code",
      "execution_count": null,
      "metadata": {
        "id": "A0esaVf7iaum"
      },
      "outputs": [],
      "source": [
        "import seaborn as sns\n",
        "import matplotlib.pyplot as plt\n",
        "\n",
        "sns.boxplot(x='key', y='tempo', data=spotify_df)\n",
        "plt.title('Tempo Distribution by Musical Key')\n",
        "# charles if you want you can chage the labels.\n",
        "plt.xlabel('Key')\n",
        "plt.ylabel('Tempo')\n",
        "plt.show()"
      ]
    },
    {
      "cell_type": "markdown",
      "metadata": {
        "id": "mnQ0YjuDjVzA"
      },
      "source": [
        "## Factorial ANOVA (Two way)"
      ]
    },
    {
      "cell_type": "markdown",
      "metadata": {
        "id": "nYOZgRj8krTY"
      },
      "source": [
        "\n",
        "> Does a song’s tempo vary depending on both its musical key and mode (major/minor)?\n",
        "\n",
        "Key = 12 levels (categorical)\n",
        "Mode = 0 (minor), 1 (major)\n",
        "\n",
        "- Test main effects of key and mode\n",
        "- Test interaction effect between key × mode"
      ]
    },
    {
      "cell_type": "code",
      "execution_count": null,
      "metadata": {
        "id": "JBdvi2rHkpk8"
      },
      "outputs": [],
      "source": [
        "# model: tempo ~ key + mode + key:mode\n",
        "model = ols('tempo ~ C(key) + C(mode) + C(key):C(mode)', data=spotify_df).fit()\n",
        "anova_table = sm.stats.anova_lm(model, typ=2)\n",
        "\n",
        "# add mean square and effect size\n",
        "anova_table['mean_sq'] = anova_table['sum_sq'] / anova_table['df']\n",
        "anova_table['eta_sq'] = anova_table['sum_sq'] / anova_table['sum_sq'].sum()\n",
        "\n",
        "print(anova_table)\n"
      ]
    },
    {
      "cell_type": "code",
      "execution_count": null,
      "metadata": {},
      "outputs": [],
      "source": []
    },
    {
      "cell_type": "code",
      "execution_count": null,
      "metadata": {
        "id": "0gbNF1sUk59d"
      },
      "outputs": [],
      "source": [
        "\n",
        "sns.pointplot(x='key', y='tempo', hue='mode', data=spotify_df, dodge=True, markers=['o', 's'], capsize=0.1)\n",
        "plt.title(\"Interaction: Key × Mode on Tempo\")\n",
        "plt.ylabel(\"Tempo\")\n",
        "plt.show()\n"
      ]
    },
    {
      "cell_type": "markdown",
      "metadata": {
        "id": "w2JrDJdNlejF"
      },
      "source": [
        "## Repeated Measures ANOVA\n",
        "\n",
        "### Example:\n",
        "> Within each song, are there significant differences between the following audio features?\n",
        "\n",
        "- danceability\n",
        "- energy\n",
        "- valence\n",
        "\n",
        "This is a within-subject design because each song has all 3 measures."
      ]
    },
    {
      "cell_type": "code",
      "execution_count": null,
      "metadata": {
        "id": "rv8nkpiEl03u"
      },
      "outputs": [],
      "source": [
        "# TODO.\n",
        "\n",
        "df_long = spotify_df[['id', 'danceability', 'energy', 'valence']].melt(id_vars='id',\n",
        "                                                               value_vars=['danceability', 'energy', 'valence'],\n",
        "                                                               var_name='feature',\n",
        "                                                               value_name='score')\n",
        "\n",
        "df_long_clean = (\n",
        "    df_long\n",
        "    .groupby(['id', 'feature'], as_index=False)['score']\n",
        "    .mean()\n",
        ")\n",
        "\n",
        "# from statsmodels.stats.anova import AnovaRM\n",
        "\n",
        "# anova_rm = AnovaRM(df_long_clean, depvar='score', subject='id', within=['feature'])\n",
        "# results = anova_rm.fit()\n",
        "\n",
        "# print(results)"
      ]
    },
    {
      "cell_type": "markdown",
      "metadata": {
        "id": "JA8sLtKPSkTG"
      },
      "source": [
        "# Part 5: Nonparametric statistical tests\n",
        "\n",
        "Test whether there is any relationship in categorical variables.\n",
        "\n",
        "## Chi-Square Test of Independence\n",
        "\n",
        "### Hypothesis:\n",
        "\n",
        "> Is there a relationship between explicit content and mode (major/minor)?\n",
        "\n",
        "- explicit = 0 or 1\n",
        "- mode = 0 (minor) or 1 (major)\n",
        "\n",
        "This data is usually presented in tables of counts."
      ]
    },
    {
      "cell_type": "code",
      "execution_count": null,
      "metadata": {
        "id": "yBnQKH9EmFor"
      },
      "outputs": [],
      "source": [
        "from scipy.stats import chi2_contingency\n",
        "\n",
        "# let's make them to a 2*2 table\n",
        "contingency_table = pd.crosstab(spotify_df['explicit'], spotify_df['mode'])\n",
        "\n",
        "print(contingency_table)"
      ]
    },
    {
      "cell_type": "code",
      "execution_count": null,
      "metadata": {
        "id": "L1VTmI_hT64C"
      },
      "outputs": [],
      "source": [
        "chi2, p, dof, expected = chi2_contingency(contingency_table)\n",
        "\n",
        "print(f\"Chi-square statistic: {chi2:.4f}\")\n",
        "print(f\"Degrees of freedom: {dof}\")\n",
        "print(f\"P-value: {p:.4f}\")"
      ]
    },
    {
      "cell_type": "markdown",
      "metadata": {},
      "source": [
        "#### Interpretation\n",
        "\n",
        "-  Since p < 0.05, we reject the null hypothesis which explicit content and musical mode are not independent. \n",
        "- There is a significant relationship between them."
      ]
    },
    {
      "cell_type": "code",
      "execution_count": null,
      "metadata": {},
      "outputs": [],
      "source": [
        "data = {\n",
        "    'Group': ['A', 'A', 'A', 'A', 'A', 'A', 'A', 'A', 'A', 'A', 'A', 'A', 'B', 'B', 'B', 'B', 'B', 'B', 'B', 'B', 'B', 'B', 'B', 'B'],\n",
        "    'Answer': ['Y', 'Y', 'N', 'N', 'Y', 'N', 'Y', 'Y', 'N', 'Y', 'N', 'Y', 'Y', 'N', 'N', 'N', 'N', 'N', 'N', 'N', 'N', 'N', 'N', 'N']\n",
        "}\n",
        "df = pd.DataFrame(data)\n",
        "contingency_table = pd.crosstab(df['Group'], df['Answer'])\n",
        "print(contingency_table)\n",
        "chi2, p, dof, expected = chi2_contingency(contingency_table)\n",
        "print(f\"Chi-square statistic: {chi2:.4f}\")\n",
        "print(f\"Degrees of freedom: {dof}\")\n",
        "print(f\"P-value: {p:.4f}\")"
      ]
    }
  ],
  "metadata": {
    "colab": {
      "provenance": []
    },
    "kernelspec": {
      "display_name": "thirty-nine-hundred-hci-ODEVS6EV-py3.13",
      "language": "python",
      "name": "python3"
    },
    "language_info": {
      "codemirror_mode": {
        "name": "ipython",
        "version": 3
      },
      "file_extension": ".py",
      "mimetype": "text/x-python",
      "name": "python",
      "nbconvert_exporter": "python",
      "pygments_lexer": "ipython3",
      "version": "3.13.5"
    }
  },
  "nbformat": 4,
  "nbformat_minor": 0
}
