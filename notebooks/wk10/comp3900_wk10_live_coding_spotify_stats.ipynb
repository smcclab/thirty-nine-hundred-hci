{
  "cells": [
    {
      "cell_type": "markdown",
      "metadata": {
        "id": "dmvAQBbQM96x"
      },
      "source": [
        "- Data Preprocessing\n",
        "- Comparing means\n",
        "- T tests\n",
        "- Analysis of variance\n",
        "- Nonparametric statistical tests\n"
      ]
    },
    {
      "cell_type": "markdown",
      "metadata": {
        "id": "dVkWGJ8MznG6"
      },
      "source": [
        "# **Part 1: Preparing data for Statistcal Analysis**"
      ]
    },
    {
      "cell_type": "markdown",
      "metadata": {
        "id": "sZGllIECM96y"
      },
      "source": [
        "Original Source: https://github.com/divya-gh/Spotify_Music_Analysis\n",
        "\n",
        "Data is taken from [Kaggle](https://www.kaggle.com/yamaerenay/spotify-dataset-19212020-160k-tracks) which has been authored by Yamac Eren Ay and  was collected using Spotify Web API.\n"
      ]
    },
    {
      "cell_type": "code",
      "execution_count": 1,
      "metadata": {
        "id": "_P44Z1rQM96z"
      },
      "outputs": [],
      "source": [
        "# libraries\n",
        "import matplotlib.pyplot as plt\n",
        "import numpy as np\n",
        "import pandas as pd"
      ]
    },
    {
      "cell_type": "markdown",
      "metadata": {
        "id": "8P682FEjM960"
      },
      "source": [
        "## Load Data\n"
      ]
    },
    {
      "cell_type": "code",
      "execution_count": 2,
      "metadata": {
        "colab": {
          "base_uri": "https://localhost:8080/",
          "height": 495
        },
        "id": "ifaZUt46M960",
        "outputId": "5e972bc8-de8e-4877-9cd9-023e98a104e2"
      },
      "outputs": [],
      "source": [
        "file_path = \"Resources/data.csv\"\n",
        "spotify_data_df = pd.read_csv(file_path)"
      ]
    },
    {
      "cell_type": "markdown",
      "metadata": {
        "id": "-UhJLuEkM961"
      },
      "source": [
        "## Display DataFrame\n",
        "\n"
      ]
    },
    {
      "cell_type": "code",
      "execution_count": 3,
      "metadata": {
        "id": "LE4YLoORM961"
      },
      "outputs": [
        {
          "data": {
            "text/html": [
              "<div>\n",
              "<style scoped>\n",
              "    .dataframe tbody tr th:only-of-type {\n",
              "        vertical-align: middle;\n",
              "    }\n",
              "\n",
              "    .dataframe tbody tr th {\n",
              "        vertical-align: top;\n",
              "    }\n",
              "\n",
              "    .dataframe thead th {\n",
              "        text-align: right;\n",
              "    }\n",
              "</style>\n",
              "<table border=\"1\" class=\"dataframe\">\n",
              "  <thead>\n",
              "    <tr style=\"text-align: right;\">\n",
              "      <th></th>\n",
              "      <th>acousticness</th>\n",
              "      <th>artists</th>\n",
              "      <th>danceability</th>\n",
              "      <th>duration_ms</th>\n",
              "      <th>energy</th>\n",
              "      <th>explicit</th>\n",
              "      <th>id</th>\n",
              "      <th>instrumentalness</th>\n",
              "      <th>key</th>\n",
              "      <th>liveness</th>\n",
              "      <th>loudness</th>\n",
              "      <th>mode</th>\n",
              "      <th>name</th>\n",
              "      <th>popularity</th>\n",
              "      <th>release_date</th>\n",
              "      <th>speechiness</th>\n",
              "      <th>tempo</th>\n",
              "      <th>valence</th>\n",
              "      <th>year</th>\n",
              "    </tr>\n",
              "  </thead>\n",
              "  <tbody>\n",
              "    <tr>\n",
              "      <th>0</th>\n",
              "      <td>0.991000</td>\n",
              "      <td>['Mamie Smith']</td>\n",
              "      <td>0.598</td>\n",
              "      <td>168333</td>\n",
              "      <td>0.224</td>\n",
              "      <td>0</td>\n",
              "      <td>0cS0A1fUEUd1EW3FcF8AEI</td>\n",
              "      <td>0.000522</td>\n",
              "      <td>5</td>\n",
              "      <td>0.3790</td>\n",
              "      <td>-12.628</td>\n",
              "      <td>0</td>\n",
              "      <td>Keep A Song In Your Soul</td>\n",
              "      <td>12</td>\n",
              "      <td>1920</td>\n",
              "      <td>0.0936</td>\n",
              "      <td>149.976</td>\n",
              "      <td>0.6340</td>\n",
              "      <td>1920</td>\n",
              "    </tr>\n",
              "    <tr>\n",
              "      <th>1</th>\n",
              "      <td>0.643000</td>\n",
              "      <td>[\"Screamin' Jay Hawkins\"]</td>\n",
              "      <td>0.852</td>\n",
              "      <td>150200</td>\n",
              "      <td>0.517</td>\n",
              "      <td>0</td>\n",
              "      <td>0hbkKFIJm7Z05H8Zl9w30f</td>\n",
              "      <td>0.026400</td>\n",
              "      <td>5</td>\n",
              "      <td>0.0809</td>\n",
              "      <td>-7.261</td>\n",
              "      <td>0</td>\n",
              "      <td>I Put A Spell On You</td>\n",
              "      <td>7</td>\n",
              "      <td>1920-01-05</td>\n",
              "      <td>0.0534</td>\n",
              "      <td>86.889</td>\n",
              "      <td>0.9500</td>\n",
              "      <td>1920</td>\n",
              "    </tr>\n",
              "    <tr>\n",
              "      <th>2</th>\n",
              "      <td>0.993000</td>\n",
              "      <td>['Mamie Smith']</td>\n",
              "      <td>0.647</td>\n",
              "      <td>163827</td>\n",
              "      <td>0.186</td>\n",
              "      <td>0</td>\n",
              "      <td>11m7laMUgmOKqI3oYzuhne</td>\n",
              "      <td>0.000018</td>\n",
              "      <td>0</td>\n",
              "      <td>0.5190</td>\n",
              "      <td>-12.098</td>\n",
              "      <td>1</td>\n",
              "      <td>Golfing Papa</td>\n",
              "      <td>4</td>\n",
              "      <td>1920</td>\n",
              "      <td>0.1740</td>\n",
              "      <td>97.600</td>\n",
              "      <td>0.6890</td>\n",
              "      <td>1920</td>\n",
              "    </tr>\n",
              "    <tr>\n",
              "      <th>3</th>\n",
              "      <td>0.000173</td>\n",
              "      <td>['Oscar Velazquez']</td>\n",
              "      <td>0.730</td>\n",
              "      <td>422087</td>\n",
              "      <td>0.798</td>\n",
              "      <td>0</td>\n",
              "      <td>19Lc5SfJJ5O1oaxY0fpwfh</td>\n",
              "      <td>0.801000</td>\n",
              "      <td>2</td>\n",
              "      <td>0.1280</td>\n",
              "      <td>-7.311</td>\n",
              "      <td>1</td>\n",
              "      <td>True House Music - Xavier Santos &amp; Carlos Gomi...</td>\n",
              "      <td>17</td>\n",
              "      <td>1920-01-01</td>\n",
              "      <td>0.0425</td>\n",
              "      <td>127.997</td>\n",
              "      <td>0.0422</td>\n",
              "      <td>1920</td>\n",
              "    </tr>\n",
              "    <tr>\n",
              "      <th>4</th>\n",
              "      <td>0.295000</td>\n",
              "      <td>['Mixe']</td>\n",
              "      <td>0.704</td>\n",
              "      <td>165224</td>\n",
              "      <td>0.707</td>\n",
              "      <td>1</td>\n",
              "      <td>2hJjbsLCytGsnAHfdsLejp</td>\n",
              "      <td>0.000246</td>\n",
              "      <td>10</td>\n",
              "      <td>0.4020</td>\n",
              "      <td>-6.036</td>\n",
              "      <td>0</td>\n",
              "      <td>Xuniverxe</td>\n",
              "      <td>2</td>\n",
              "      <td>1920-10-01</td>\n",
              "      <td>0.0768</td>\n",
              "      <td>122.076</td>\n",
              "      <td>0.2990</td>\n",
              "      <td>1920</td>\n",
              "    </tr>\n",
              "  </tbody>\n",
              "</table>\n",
              "</div>"
            ],
            "text/plain": [
              "   acousticness                    artists  danceability  duration_ms  energy  \\\n",
              "0      0.991000            ['Mamie Smith']         0.598       168333   0.224   \n",
              "1      0.643000  [\"Screamin' Jay Hawkins\"]         0.852       150200   0.517   \n",
              "2      0.993000            ['Mamie Smith']         0.647       163827   0.186   \n",
              "3      0.000173        ['Oscar Velazquez']         0.730       422087   0.798   \n",
              "4      0.295000                   ['Mixe']         0.704       165224   0.707   \n",
              "\n",
              "   explicit                      id  instrumentalness  key  liveness  \\\n",
              "0         0  0cS0A1fUEUd1EW3FcF8AEI          0.000522    5    0.3790   \n",
              "1         0  0hbkKFIJm7Z05H8Zl9w30f          0.026400    5    0.0809   \n",
              "2         0  11m7laMUgmOKqI3oYzuhne          0.000018    0    0.5190   \n",
              "3         0  19Lc5SfJJ5O1oaxY0fpwfh          0.801000    2    0.1280   \n",
              "4         1  2hJjbsLCytGsnAHfdsLejp          0.000246   10    0.4020   \n",
              "\n",
              "   loudness  mode                                               name  \\\n",
              "0   -12.628     0                           Keep A Song In Your Soul   \n",
              "1    -7.261     0                               I Put A Spell On You   \n",
              "2   -12.098     1                                       Golfing Papa   \n",
              "3    -7.311     1  True House Music - Xavier Santos & Carlos Gomi...   \n",
              "4    -6.036     0                                          Xuniverxe   \n",
              "\n",
              "   popularity release_date  speechiness    tempo  valence  year  \n",
              "0          12         1920       0.0936  149.976   0.6340  1920  \n",
              "1           7   1920-01-05       0.0534   86.889   0.9500  1920  \n",
              "2           4         1920       0.1740   97.600   0.6890  1920  \n",
              "3          17   1920-01-01       0.0425  127.997   0.0422  1920  \n",
              "4           2   1920-10-01       0.0768  122.076   0.2990  1920  "
            ]
          },
          "execution_count": 3,
          "metadata": {},
          "output_type": "execute_result"
        }
      ],
      "source": [
        "spotify_data_df.head()"
      ]
    },
    {
      "cell_type": "markdown",
      "metadata": {
        "id": "3D2kJDLCM962"
      },
      "source": [
        "## Display total music releases by artists over 100 years"
      ]
    },
    {
      "cell_type": "code",
      "execution_count": 4,
      "metadata": {
        "id": "WKsKMtIcM962"
      },
      "outputs": [
        {
          "data": {
            "text/html": [
              "<div>\n",
              "<style scoped>\n",
              "    .dataframe tbody tr th:only-of-type {\n",
              "        vertical-align: middle;\n",
              "    }\n",
              "\n",
              "    .dataframe tbody tr th {\n",
              "        vertical-align: top;\n",
              "    }\n",
              "\n",
              "    .dataframe thead th {\n",
              "        text-align: right;\n",
              "    }\n",
              "</style>\n",
              "<table border=\"1\" class=\"dataframe\">\n",
              "  <thead>\n",
              "    <tr style=\"text-align: right;\">\n",
              "      <th></th>\n",
              "      <th>Total Rows</th>\n",
              "      <th>Total Columns</th>\n",
              "    </tr>\n",
              "  </thead>\n",
              "  <tbody>\n",
              "    <tr>\n",
              "      <th>0</th>\n",
              "      <td>174389</td>\n",
              "      <td>19</td>\n",
              "    </tr>\n",
              "  </tbody>\n",
              "</table>\n",
              "</div>"
            ],
            "text/plain": [
              "   Total Rows  Total Columns\n",
              "0      174389             19"
            ]
          },
          "execution_count": 4,
          "metadata": {},
          "output_type": "execute_result"
        }
      ],
      "source": [
        "rows = spotify_data_df.shape[0]\n",
        "columns = spotify_data_df.shape[1]\n",
        "total_before = pd.DataFrame({\n",
        "                     \" Total Rows\": [rows],\n",
        "                     \" Total Columns\": [columns]\n",
        "                    })\n",
        "total_before"
      ]
    },
    {
      "cell_type": "markdown",
      "metadata": {
        "id": "gslvJ-QtM962"
      },
      "source": [
        "The dataset contains a total of 1,74,389 records by artists till date and has 19 audio characteristics.\n",
        "\n",
        "## Understand and Explore Audio Characteristics\n",
        "\n",
        "Get a sense of data you collected, such as artisits, song names, popularity, etc and their types.\n"
      ]
    },
    {
      "cell_type": "code",
      "execution_count": 5,
      "metadata": {
        "id": "q6E_X_QuM962"
      },
      "outputs": [
        {
          "data": {
            "text/plain": [
              "Index(['acousticness', 'artists', 'danceability', 'duration_ms', 'energy',\n",
              "       'explicit', 'id', 'instrumentalness', 'key', 'liveness', 'loudness',\n",
              "       'mode', 'name', 'popularity', 'release_date', 'speechiness', 'tempo',\n",
              "       'valence', 'year'],\n",
              "      dtype='object')"
            ]
          },
          "execution_count": 5,
          "metadata": {},
          "output_type": "execute_result"
        }
      ],
      "source": [
        "spotify_data_df.columns"
      ]
    },
    {
      "cell_type": "code",
      "execution_count": 6,
      "metadata": {
        "id": "zdQ_7_W3w4w0"
      },
      "outputs": [
        {
          "data": {
            "text/plain": [
              "acousticness        float64\n",
              "artists              object\n",
              "danceability        float64\n",
              "duration_ms           int64\n",
              "energy              float64\n",
              "explicit              int64\n",
              "id                   object\n",
              "instrumentalness    float64\n",
              "key                   int64\n",
              "liveness            float64\n",
              "loudness            float64\n",
              "mode                  int64\n",
              "name                 object\n",
              "popularity            int64\n",
              "release_date         object\n",
              "speechiness         float64\n",
              "tempo               float64\n",
              "valence             float64\n",
              "year                  int64\n",
              "dtype: object"
            ]
          },
          "execution_count": 6,
          "metadata": {},
          "output_type": "execute_result"
        }
      ],
      "source": [
        "spotify_data_df.dtypes"
      ]
    },
    {
      "cell_type": "markdown",
      "metadata": {
        "id": "0tRDhpJDM963"
      },
      "source": [
        "## Feature Description: Explain how they are measured and what they mean.\n",
        "### Primary:\n",
        "    •\t- id : Song unique ID\n",
        "\n",
        "### Numerical:\n",
        "    •\t- acousticness : A confidence measure from 0.0 to 1.0 of whether the track is acoustic; 1-High , 0 -Low\n",
        "    •\t- danceability: How suitable a track is for dancing based on a combination of musical elements; 0-Least, 1-Most\n",
        "    •\t- energy: Measure of intensity and activity. Typically, energetic tracks feel fast, loud, and noisy;0-Low,1-High\n",
        "    •\t- duration_ms : Duration of song in milliseconds ranging from 200k to 300k\n",
        "    •\t- instrumentalness :Predicts whether a track contains no vocals(ex: oohh and aahh) ;1-No vocals, 0-vocal\n",
        "    •\t- valence : Musical positiveness conveyed by a track.\n",
        "            0-negative(sad, depressed, angry) ,\n",
        "            1-positive (happy, cheerful, euphoric)\n",
        "    •\t- popularity: Based on number of plays and downloads ; 0-Less Popular, 100-Very Popular\n",
        "    •\t- tempo : Overall estimated tempo of a track in beats per minutes(BPM);50-Low , 100-High\n",
        "    •\t- liveness: Detects the presence of an audience in the recording ; 0-No , 1 -Yes\n",
        "    •\t- loudness: Overall relative loudness of tracks in decibels (dB). -60 low ,0-High\n",
        "    •\t- speechiness: presence of spoken words in a track.\n",
        "              Values >0.66-entirely of spoken words.\n",
        "              Values between 0.33 and 0.66 describe tracks that may contain both music and speech,like rap music.\n",
        "              Values < 0.33 mostly music and other non-speech-like tracks.\n",
        "    •\t- year : The year music was recorded and release (1921 to 2020)\n",
        "\n",
        "### Dummy:\n",
        "    •\t- mode (0 = Minor, 1 = Major)\n",
        "    •\t- explicit (0 = No explicit content, 1 = Explicit content)\n",
        "\n",
        "### Categorical:\n",
        "    •\t- key : All keys on octave encoded as values ranging from 0 to 11, starting on C as 0, C# as 1\n",
        "    •\t- artists :Song Artist\n",
        "    •\t- release_date : Date when album released\n",
        "    •\t- name : Song Name\n"
      ]
    },
    {
      "cell_type": "markdown",
      "metadata": {
        "id": "sEXZGpeEM963"
      },
      "source": [
        "###  Interesting insights from data exploration:\n",
        "    -\tThis data is simply a sample of tracks released in those 100 years and not a complete set.\n",
        "    -\tAccording to Spotify developers site, the popularity is calculated by an algorithm and is based on the\n",
        "         total number of downloads and plays the track has had and how recent those plays are. While this is accurate for\n",
        "         newer tracks, could be a bias on older tracks.\n",
        "    -   Valance descibes the mood of the singer. It would be interesting to know that it was measured based on\n",
        "         loudness. Louder the song, happier and cheerful it is.\n",
        "    -   Not all the features are measured in the range 0-1 . ex: To plot the trending of loudness with other features\n",
        "         over time, we would have to normalize the units to fit the scale."
      ]
    },
    {
      "cell_type": "markdown",
      "metadata": {
        "id": "Dse2fTmKM963"
      },
      "source": [
        "## Preprocessing and Feature Selection\n",
        "\n",
        "- Perform basic data cleanup.\n",
        "- Select features that fit to the stats analysis interests.[link text](https://)\n",
        "- Here we keep them all."
      ]
    },
    {
      "cell_type": "code",
      "execution_count": 7,
      "metadata": {
        "id": "08pXVUB00sHk"
      },
      "outputs": [
        {
          "data": {
            "text/html": [
              "<div>\n",
              "<style scoped>\n",
              "    .dataframe tbody tr th:only-of-type {\n",
              "        vertical-align: middle;\n",
              "    }\n",
              "\n",
              "    .dataframe tbody tr th {\n",
              "        vertical-align: top;\n",
              "    }\n",
              "\n",
              "    .dataframe thead th {\n",
              "        text-align: right;\n",
              "    }\n",
              "</style>\n",
              "<table border=\"1\" class=\"dataframe\">\n",
              "  <thead>\n",
              "    <tr style=\"text-align: right;\">\n",
              "      <th></th>\n",
              "      <th>acousticness</th>\n",
              "      <th>artists</th>\n",
              "      <th>danceability</th>\n",
              "      <th>duration_ms</th>\n",
              "      <th>energy</th>\n",
              "      <th>explicit</th>\n",
              "      <th>id</th>\n",
              "      <th>instrumentalness</th>\n",
              "      <th>key</th>\n",
              "      <th>liveness</th>\n",
              "      <th>loudness</th>\n",
              "      <th>mode</th>\n",
              "      <th>name</th>\n",
              "      <th>popularity</th>\n",
              "      <th>release_date</th>\n",
              "      <th>speechiness</th>\n",
              "      <th>tempo</th>\n",
              "      <th>valence</th>\n",
              "      <th>year</th>\n",
              "    </tr>\n",
              "  </thead>\n",
              "  <tbody>\n",
              "    <tr>\n",
              "      <th>0</th>\n",
              "      <td>0.991000</td>\n",
              "      <td>['Mamie Smith']</td>\n",
              "      <td>0.598</td>\n",
              "      <td>168333</td>\n",
              "      <td>0.224</td>\n",
              "      <td>0</td>\n",
              "      <td>0cS0A1fUEUd1EW3FcF8AEI</td>\n",
              "      <td>0.000522</td>\n",
              "      <td>5</td>\n",
              "      <td>0.3790</td>\n",
              "      <td>-12.628</td>\n",
              "      <td>0</td>\n",
              "      <td>Keep A Song In Your Soul</td>\n",
              "      <td>12</td>\n",
              "      <td>1920</td>\n",
              "      <td>0.0936</td>\n",
              "      <td>149.976</td>\n",
              "      <td>0.6340</td>\n",
              "      <td>1920</td>\n",
              "    </tr>\n",
              "    <tr>\n",
              "      <th>1</th>\n",
              "      <td>0.643000</td>\n",
              "      <td>[\"Screamin' Jay Hawkins\"]</td>\n",
              "      <td>0.852</td>\n",
              "      <td>150200</td>\n",
              "      <td>0.517</td>\n",
              "      <td>0</td>\n",
              "      <td>0hbkKFIJm7Z05H8Zl9w30f</td>\n",
              "      <td>0.026400</td>\n",
              "      <td>5</td>\n",
              "      <td>0.0809</td>\n",
              "      <td>-7.261</td>\n",
              "      <td>0</td>\n",
              "      <td>I Put A Spell On You</td>\n",
              "      <td>7</td>\n",
              "      <td>1920-01-05</td>\n",
              "      <td>0.0534</td>\n",
              "      <td>86.889</td>\n",
              "      <td>0.9500</td>\n",
              "      <td>1920</td>\n",
              "    </tr>\n",
              "    <tr>\n",
              "      <th>2</th>\n",
              "      <td>0.993000</td>\n",
              "      <td>['Mamie Smith']</td>\n",
              "      <td>0.647</td>\n",
              "      <td>163827</td>\n",
              "      <td>0.186</td>\n",
              "      <td>0</td>\n",
              "      <td>11m7laMUgmOKqI3oYzuhne</td>\n",
              "      <td>0.000018</td>\n",
              "      <td>0</td>\n",
              "      <td>0.5190</td>\n",
              "      <td>-12.098</td>\n",
              "      <td>1</td>\n",
              "      <td>Golfing Papa</td>\n",
              "      <td>4</td>\n",
              "      <td>1920</td>\n",
              "      <td>0.1740</td>\n",
              "      <td>97.600</td>\n",
              "      <td>0.6890</td>\n",
              "      <td>1920</td>\n",
              "    </tr>\n",
              "    <tr>\n",
              "      <th>3</th>\n",
              "      <td>0.000173</td>\n",
              "      <td>['Oscar Velazquez']</td>\n",
              "      <td>0.730</td>\n",
              "      <td>422087</td>\n",
              "      <td>0.798</td>\n",
              "      <td>0</td>\n",
              "      <td>19Lc5SfJJ5O1oaxY0fpwfh</td>\n",
              "      <td>0.801000</td>\n",
              "      <td>2</td>\n",
              "      <td>0.1280</td>\n",
              "      <td>-7.311</td>\n",
              "      <td>1</td>\n",
              "      <td>True House Music - Xavier Santos &amp; Carlos Gomi...</td>\n",
              "      <td>17</td>\n",
              "      <td>1920-01-01</td>\n",
              "      <td>0.0425</td>\n",
              "      <td>127.997</td>\n",
              "      <td>0.0422</td>\n",
              "      <td>1920</td>\n",
              "    </tr>\n",
              "    <tr>\n",
              "      <th>4</th>\n",
              "      <td>0.295000</td>\n",
              "      <td>['Mixe']</td>\n",
              "      <td>0.704</td>\n",
              "      <td>165224</td>\n",
              "      <td>0.707</td>\n",
              "      <td>1</td>\n",
              "      <td>2hJjbsLCytGsnAHfdsLejp</td>\n",
              "      <td>0.000246</td>\n",
              "      <td>10</td>\n",
              "      <td>0.4020</td>\n",
              "      <td>-6.036</td>\n",
              "      <td>0</td>\n",
              "      <td>Xuniverxe</td>\n",
              "      <td>2</td>\n",
              "      <td>1920-10-01</td>\n",
              "      <td>0.0768</td>\n",
              "      <td>122.076</td>\n",
              "      <td>0.2990</td>\n",
              "      <td>1920</td>\n",
              "    </tr>\n",
              "  </tbody>\n",
              "</table>\n",
              "</div>"
            ],
            "text/plain": [
              "   acousticness                    artists  danceability  duration_ms  energy  \\\n",
              "0      0.991000            ['Mamie Smith']         0.598       168333   0.224   \n",
              "1      0.643000  [\"Screamin' Jay Hawkins\"]         0.852       150200   0.517   \n",
              "2      0.993000            ['Mamie Smith']         0.647       163827   0.186   \n",
              "3      0.000173        ['Oscar Velazquez']         0.730       422087   0.798   \n",
              "4      0.295000                   ['Mixe']         0.704       165224   0.707   \n",
              "\n",
              "   explicit                      id  instrumentalness  key  liveness  \\\n",
              "0         0  0cS0A1fUEUd1EW3FcF8AEI          0.000522    5    0.3790   \n",
              "1         0  0hbkKFIJm7Z05H8Zl9w30f          0.026400    5    0.0809   \n",
              "2         0  11m7laMUgmOKqI3oYzuhne          0.000018    0    0.5190   \n",
              "3         0  19Lc5SfJJ5O1oaxY0fpwfh          0.801000    2    0.1280   \n",
              "4         1  2hJjbsLCytGsnAHfdsLejp          0.000246   10    0.4020   \n",
              "\n",
              "   loudness  mode                                               name  \\\n",
              "0   -12.628     0                           Keep A Song In Your Soul   \n",
              "1    -7.261     0                               I Put A Spell On You   \n",
              "2   -12.098     1                                       Golfing Papa   \n",
              "3    -7.311     1  True House Music - Xavier Santos & Carlos Gomi...   \n",
              "4    -6.036     0                                          Xuniverxe   \n",
              "\n",
              "   popularity release_date  speechiness    tempo  valence  year  \n",
              "0          12         1920       0.0936  149.976   0.6340  1920  \n",
              "1           7   1920-01-05       0.0534   86.889   0.9500  1920  \n",
              "2           4         1920       0.1740   97.600   0.6890  1920  \n",
              "3          17   1920-01-01       0.0425  127.997   0.0422  1920  \n",
              "4           2   1920-10-01       0.0768  122.076   0.2990  1920  "
            ]
          },
          "execution_count": 7,
          "metadata": {},
          "output_type": "execute_result"
        }
      ],
      "source": [
        "spotify_data_df.head(5)"
      ]
    },
    {
      "cell_type": "markdown",
      "metadata": {
        "id": "n-IKBcPyM963"
      },
      "source": [
        "Data needs a cleanup:\n",
        "- Remove special charecters from the artists column.\n",
        "- Parse data types and\n",
        "- Drop Null values."
      ]
    },
    {
      "cell_type": "code",
      "execution_count": 8,
      "metadata": {
        "id": "GetlXdJzM963"
      },
      "outputs": [],
      "source": [
        "# remove special characters from the column 'artist' using lstrip , rstrip  and str.replace functions (aka \"[]\")\n",
        "spotify_data_df_clean_artists= spotify_data_df.copy()\n",
        "spotify_data_df_clean_artists[\"artists\"]=spotify_data_df_clean_artists[\"artists\"].map(lambda x: x.lstrip(\"['\").rstrip(\"']\")).astype(str)\n"
      ]
    },
    {
      "cell_type": "code",
      "execution_count": 9,
      "metadata": {
        "id": "ifB0K0xU1Wvw"
      },
      "outputs": [
        {
          "data": {
            "text/html": [
              "<div>\n",
              "<style scoped>\n",
              "    .dataframe tbody tr th:only-of-type {\n",
              "        vertical-align: middle;\n",
              "    }\n",
              "\n",
              "    .dataframe tbody tr th {\n",
              "        vertical-align: top;\n",
              "    }\n",
              "\n",
              "    .dataframe thead th {\n",
              "        text-align: right;\n",
              "    }\n",
              "</style>\n",
              "<table border=\"1\" class=\"dataframe\">\n",
              "  <thead>\n",
              "    <tr style=\"text-align: right;\">\n",
              "      <th></th>\n",
              "      <th>acousticness</th>\n",
              "      <th>artists</th>\n",
              "      <th>danceability</th>\n",
              "      <th>duration_ms</th>\n",
              "      <th>energy</th>\n",
              "      <th>explicit</th>\n",
              "      <th>id</th>\n",
              "      <th>instrumentalness</th>\n",
              "      <th>key</th>\n",
              "      <th>liveness</th>\n",
              "      <th>loudness</th>\n",
              "      <th>mode</th>\n",
              "      <th>name</th>\n",
              "      <th>popularity</th>\n",
              "      <th>release_date</th>\n",
              "      <th>speechiness</th>\n",
              "      <th>tempo</th>\n",
              "      <th>valence</th>\n",
              "      <th>year</th>\n",
              "    </tr>\n",
              "  </thead>\n",
              "  <tbody>\n",
              "    <tr>\n",
              "      <th>0</th>\n",
              "      <td>0.991000</td>\n",
              "      <td>Mamie Smith</td>\n",
              "      <td>0.598</td>\n",
              "      <td>168333</td>\n",
              "      <td>0.224</td>\n",
              "      <td>0</td>\n",
              "      <td>0cS0A1fUEUd1EW3FcF8AEI</td>\n",
              "      <td>0.000522</td>\n",
              "      <td>5</td>\n",
              "      <td>0.3790</td>\n",
              "      <td>-12.628</td>\n",
              "      <td>0</td>\n",
              "      <td>Keep A Song In Your Soul</td>\n",
              "      <td>12</td>\n",
              "      <td>1920</td>\n",
              "      <td>0.0936</td>\n",
              "      <td>149.976</td>\n",
              "      <td>0.6340</td>\n",
              "      <td>1920</td>\n",
              "    </tr>\n",
              "    <tr>\n",
              "      <th>1</th>\n",
              "      <td>0.643000</td>\n",
              "      <td>\"Screamin' Jay Hawkins\"</td>\n",
              "      <td>0.852</td>\n",
              "      <td>150200</td>\n",
              "      <td>0.517</td>\n",
              "      <td>0</td>\n",
              "      <td>0hbkKFIJm7Z05H8Zl9w30f</td>\n",
              "      <td>0.026400</td>\n",
              "      <td>5</td>\n",
              "      <td>0.0809</td>\n",
              "      <td>-7.261</td>\n",
              "      <td>0</td>\n",
              "      <td>I Put A Spell On You</td>\n",
              "      <td>7</td>\n",
              "      <td>1920-01-05</td>\n",
              "      <td>0.0534</td>\n",
              "      <td>86.889</td>\n",
              "      <td>0.9500</td>\n",
              "      <td>1920</td>\n",
              "    </tr>\n",
              "    <tr>\n",
              "      <th>2</th>\n",
              "      <td>0.993000</td>\n",
              "      <td>Mamie Smith</td>\n",
              "      <td>0.647</td>\n",
              "      <td>163827</td>\n",
              "      <td>0.186</td>\n",
              "      <td>0</td>\n",
              "      <td>11m7laMUgmOKqI3oYzuhne</td>\n",
              "      <td>0.000018</td>\n",
              "      <td>0</td>\n",
              "      <td>0.5190</td>\n",
              "      <td>-12.098</td>\n",
              "      <td>1</td>\n",
              "      <td>Golfing Papa</td>\n",
              "      <td>4</td>\n",
              "      <td>1920</td>\n",
              "      <td>0.1740</td>\n",
              "      <td>97.600</td>\n",
              "      <td>0.6890</td>\n",
              "      <td>1920</td>\n",
              "    </tr>\n",
              "    <tr>\n",
              "      <th>3</th>\n",
              "      <td>0.000173</td>\n",
              "      <td>Oscar Velazquez</td>\n",
              "      <td>0.730</td>\n",
              "      <td>422087</td>\n",
              "      <td>0.798</td>\n",
              "      <td>0</td>\n",
              "      <td>19Lc5SfJJ5O1oaxY0fpwfh</td>\n",
              "      <td>0.801000</td>\n",
              "      <td>2</td>\n",
              "      <td>0.1280</td>\n",
              "      <td>-7.311</td>\n",
              "      <td>1</td>\n",
              "      <td>True House Music - Xavier Santos &amp; Carlos Gomi...</td>\n",
              "      <td>17</td>\n",
              "      <td>1920-01-01</td>\n",
              "      <td>0.0425</td>\n",
              "      <td>127.997</td>\n",
              "      <td>0.0422</td>\n",
              "      <td>1920</td>\n",
              "    </tr>\n",
              "    <tr>\n",
              "      <th>4</th>\n",
              "      <td>0.295000</td>\n",
              "      <td>Mixe</td>\n",
              "      <td>0.704</td>\n",
              "      <td>165224</td>\n",
              "      <td>0.707</td>\n",
              "      <td>1</td>\n",
              "      <td>2hJjbsLCytGsnAHfdsLejp</td>\n",
              "      <td>0.000246</td>\n",
              "      <td>10</td>\n",
              "      <td>0.4020</td>\n",
              "      <td>-6.036</td>\n",
              "      <td>0</td>\n",
              "      <td>Xuniverxe</td>\n",
              "      <td>2</td>\n",
              "      <td>1920-10-01</td>\n",
              "      <td>0.0768</td>\n",
              "      <td>122.076</td>\n",
              "      <td>0.2990</td>\n",
              "      <td>1920</td>\n",
              "    </tr>\n",
              "  </tbody>\n",
              "</table>\n",
              "</div>"
            ],
            "text/plain": [
              "   acousticness                  artists  danceability  duration_ms  energy  \\\n",
              "0      0.991000              Mamie Smith         0.598       168333   0.224   \n",
              "1      0.643000  \"Screamin' Jay Hawkins\"         0.852       150200   0.517   \n",
              "2      0.993000              Mamie Smith         0.647       163827   0.186   \n",
              "3      0.000173          Oscar Velazquez         0.730       422087   0.798   \n",
              "4      0.295000                     Mixe         0.704       165224   0.707   \n",
              "\n",
              "   explicit                      id  instrumentalness  key  liveness  \\\n",
              "0         0  0cS0A1fUEUd1EW3FcF8AEI          0.000522    5    0.3790   \n",
              "1         0  0hbkKFIJm7Z05H8Zl9w30f          0.026400    5    0.0809   \n",
              "2         0  11m7laMUgmOKqI3oYzuhne          0.000018    0    0.5190   \n",
              "3         0  19Lc5SfJJ5O1oaxY0fpwfh          0.801000    2    0.1280   \n",
              "4         1  2hJjbsLCytGsnAHfdsLejp          0.000246   10    0.4020   \n",
              "\n",
              "   loudness  mode                                               name  \\\n",
              "0   -12.628     0                           Keep A Song In Your Soul   \n",
              "1    -7.261     0                               I Put A Spell On You   \n",
              "2   -12.098     1                                       Golfing Papa   \n",
              "3    -7.311     1  True House Music - Xavier Santos & Carlos Gomi...   \n",
              "4    -6.036     0                                          Xuniverxe   \n",
              "\n",
              "   popularity release_date  speechiness    tempo  valence  year  \n",
              "0          12         1920       0.0936  149.976   0.6340  1920  \n",
              "1           7   1920-01-05       0.0534   86.889   0.9500  1920  \n",
              "2           4         1920       0.1740   97.600   0.6890  1920  \n",
              "3          17   1920-01-01       0.0425  127.997   0.0422  1920  \n",
              "4           2   1920-10-01       0.0768  122.076   0.2990  1920  "
            ]
          },
          "execution_count": 9,
          "metadata": {},
          "output_type": "execute_result"
        }
      ],
      "source": [
        "spotify_data_df_clean_artists.head(5)"
      ]
    },
    {
      "cell_type": "code",
      "execution_count": 10,
      "metadata": {
        "id": "DTg8OpQ9M963"
      },
      "outputs": [],
      "source": [
        "# remove single and double quotes\n",
        "spotify_data_df_clean_artists[\"artists\"]=spotify_data_df_clean_artists[\"artists\"].str.replace(\"'\",\"\").str.replace('\"',\"\")"
      ]
    },
    {
      "cell_type": "code",
      "execution_count": 11,
      "metadata": {
        "id": "0Fnd0YERM964"
      },
      "outputs": [
        {
          "data": {
            "text/html": [
              "<div>\n",
              "<style scoped>\n",
              "    .dataframe tbody tr th:only-of-type {\n",
              "        vertical-align: middle;\n",
              "    }\n",
              "\n",
              "    .dataframe tbody tr th {\n",
              "        vertical-align: top;\n",
              "    }\n",
              "\n",
              "    .dataframe thead th {\n",
              "        text-align: right;\n",
              "    }\n",
              "</style>\n",
              "<table border=\"1\" class=\"dataframe\">\n",
              "  <thead>\n",
              "    <tr style=\"text-align: right;\">\n",
              "      <th></th>\n",
              "      <th>acousticness</th>\n",
              "      <th>artists</th>\n",
              "      <th>danceability</th>\n",
              "      <th>duration_ms</th>\n",
              "      <th>energy</th>\n",
              "      <th>explicit</th>\n",
              "      <th>id</th>\n",
              "      <th>instrumentalness</th>\n",
              "      <th>key</th>\n",
              "      <th>liveness</th>\n",
              "      <th>loudness</th>\n",
              "      <th>mode</th>\n",
              "      <th>name</th>\n",
              "      <th>popularity</th>\n",
              "      <th>release_date</th>\n",
              "      <th>speechiness</th>\n",
              "      <th>tempo</th>\n",
              "      <th>valence</th>\n",
              "      <th>year</th>\n",
              "    </tr>\n",
              "  </thead>\n",
              "  <tbody>\n",
              "    <tr>\n",
              "      <th>0</th>\n",
              "      <td>0.991000</td>\n",
              "      <td>Mamie Smith</td>\n",
              "      <td>0.598</td>\n",
              "      <td>168333</td>\n",
              "      <td>0.224</td>\n",
              "      <td>0</td>\n",
              "      <td>0cS0A1fUEUd1EW3FcF8AEI</td>\n",
              "      <td>0.000522</td>\n",
              "      <td>5</td>\n",
              "      <td>0.3790</td>\n",
              "      <td>-12.628</td>\n",
              "      <td>0</td>\n",
              "      <td>Keep A Song In Your Soul</td>\n",
              "      <td>12</td>\n",
              "      <td>1920</td>\n",
              "      <td>0.0936</td>\n",
              "      <td>149.976</td>\n",
              "      <td>0.6340</td>\n",
              "      <td>1920</td>\n",
              "    </tr>\n",
              "    <tr>\n",
              "      <th>1</th>\n",
              "      <td>0.643000</td>\n",
              "      <td>Screamin Jay Hawkins</td>\n",
              "      <td>0.852</td>\n",
              "      <td>150200</td>\n",
              "      <td>0.517</td>\n",
              "      <td>0</td>\n",
              "      <td>0hbkKFIJm7Z05H8Zl9w30f</td>\n",
              "      <td>0.026400</td>\n",
              "      <td>5</td>\n",
              "      <td>0.0809</td>\n",
              "      <td>-7.261</td>\n",
              "      <td>0</td>\n",
              "      <td>I Put A Spell On You</td>\n",
              "      <td>7</td>\n",
              "      <td>1920-01-05</td>\n",
              "      <td>0.0534</td>\n",
              "      <td>86.889</td>\n",
              "      <td>0.9500</td>\n",
              "      <td>1920</td>\n",
              "    </tr>\n",
              "    <tr>\n",
              "      <th>2</th>\n",
              "      <td>0.993000</td>\n",
              "      <td>Mamie Smith</td>\n",
              "      <td>0.647</td>\n",
              "      <td>163827</td>\n",
              "      <td>0.186</td>\n",
              "      <td>0</td>\n",
              "      <td>11m7laMUgmOKqI3oYzuhne</td>\n",
              "      <td>0.000018</td>\n",
              "      <td>0</td>\n",
              "      <td>0.5190</td>\n",
              "      <td>-12.098</td>\n",
              "      <td>1</td>\n",
              "      <td>Golfing Papa</td>\n",
              "      <td>4</td>\n",
              "      <td>1920</td>\n",
              "      <td>0.1740</td>\n",
              "      <td>97.600</td>\n",
              "      <td>0.6890</td>\n",
              "      <td>1920</td>\n",
              "    </tr>\n",
              "    <tr>\n",
              "      <th>3</th>\n",
              "      <td>0.000173</td>\n",
              "      <td>Oscar Velazquez</td>\n",
              "      <td>0.730</td>\n",
              "      <td>422087</td>\n",
              "      <td>0.798</td>\n",
              "      <td>0</td>\n",
              "      <td>19Lc5SfJJ5O1oaxY0fpwfh</td>\n",
              "      <td>0.801000</td>\n",
              "      <td>2</td>\n",
              "      <td>0.1280</td>\n",
              "      <td>-7.311</td>\n",
              "      <td>1</td>\n",
              "      <td>True House Music - Xavier Santos &amp; Carlos Gomi...</td>\n",
              "      <td>17</td>\n",
              "      <td>1920-01-01</td>\n",
              "      <td>0.0425</td>\n",
              "      <td>127.997</td>\n",
              "      <td>0.0422</td>\n",
              "      <td>1920</td>\n",
              "    </tr>\n",
              "    <tr>\n",
              "      <th>4</th>\n",
              "      <td>0.295000</td>\n",
              "      <td>Mixe</td>\n",
              "      <td>0.704</td>\n",
              "      <td>165224</td>\n",
              "      <td>0.707</td>\n",
              "      <td>1</td>\n",
              "      <td>2hJjbsLCytGsnAHfdsLejp</td>\n",
              "      <td>0.000246</td>\n",
              "      <td>10</td>\n",
              "      <td>0.4020</td>\n",
              "      <td>-6.036</td>\n",
              "      <td>0</td>\n",
              "      <td>Xuniverxe</td>\n",
              "      <td>2</td>\n",
              "      <td>1920-10-01</td>\n",
              "      <td>0.0768</td>\n",
              "      <td>122.076</td>\n",
              "      <td>0.2990</td>\n",
              "      <td>1920</td>\n",
              "    </tr>\n",
              "    <tr>\n",
              "      <th>...</th>\n",
              "      <td>...</td>\n",
              "      <td>...</td>\n",
              "      <td>...</td>\n",
              "      <td>...</td>\n",
              "      <td>...</td>\n",
              "      <td>...</td>\n",
              "      <td>...</td>\n",
              "      <td>...</td>\n",
              "      <td>...</td>\n",
              "      <td>...</td>\n",
              "      <td>...</td>\n",
              "      <td>...</td>\n",
              "      <td>...</td>\n",
              "      <td>...</td>\n",
              "      <td>...</td>\n",
              "      <td>...</td>\n",
              "      <td>...</td>\n",
              "      <td>...</td>\n",
              "      <td>...</td>\n",
              "    </tr>\n",
              "    <tr>\n",
              "      <th>174384</th>\n",
              "      <td>0.009170</td>\n",
              "      <td>DJ Combo, Sander-7, Tony T</td>\n",
              "      <td>0.792</td>\n",
              "      <td>147615</td>\n",
              "      <td>0.866</td>\n",
              "      <td>0</td>\n",
              "      <td>46LhBf6TvYjZU2SMvGZAbn</td>\n",
              "      <td>0.000060</td>\n",
              "      <td>6</td>\n",
              "      <td>0.1780</td>\n",
              "      <td>-5.089</td>\n",
              "      <td>0</td>\n",
              "      <td>The One</td>\n",
              "      <td>0</td>\n",
              "      <td>2020-12-25</td>\n",
              "      <td>0.0356</td>\n",
              "      <td>125.972</td>\n",
              "      <td>0.1860</td>\n",
              "      <td>2020</td>\n",
              "    </tr>\n",
              "    <tr>\n",
              "      <th>174385</th>\n",
              "      <td>0.795000</td>\n",
              "      <td>Alessia Cara</td>\n",
              "      <td>0.429</td>\n",
              "      <td>144720</td>\n",
              "      <td>0.211</td>\n",
              "      <td>0</td>\n",
              "      <td>7tue2Wemjd0FZzRtDrQFZd</td>\n",
              "      <td>0.000000</td>\n",
              "      <td>4</td>\n",
              "      <td>0.1960</td>\n",
              "      <td>-11.665</td>\n",
              "      <td>1</td>\n",
              "      <td>A Little More</td>\n",
              "      <td>0</td>\n",
              "      <td>2021-01-22</td>\n",
              "      <td>0.0360</td>\n",
              "      <td>94.710</td>\n",
              "      <td>0.2280</td>\n",
              "      <td>2021</td>\n",
              "    </tr>\n",
              "    <tr>\n",
              "      <th>174386</th>\n",
              "      <td>0.806000</td>\n",
              "      <td>Roger Fly</td>\n",
              "      <td>0.671</td>\n",
              "      <td>218147</td>\n",
              "      <td>0.589</td>\n",
              "      <td>0</td>\n",
              "      <td>48Qj61hOdYmUCFJbpQ29Ob</td>\n",
              "      <td>0.920000</td>\n",
              "      <td>4</td>\n",
              "      <td>0.1130</td>\n",
              "      <td>-12.393</td>\n",
              "      <td>0</td>\n",
              "      <td>Together</td>\n",
              "      <td>0</td>\n",
              "      <td>2020-12-09</td>\n",
              "      <td>0.0282</td>\n",
              "      <td>108.058</td>\n",
              "      <td>0.7140</td>\n",
              "      <td>2020</td>\n",
              "    </tr>\n",
              "    <tr>\n",
              "      <th>174387</th>\n",
              "      <td>0.920000</td>\n",
              "      <td>Taylor Swift</td>\n",
              "      <td>0.462</td>\n",
              "      <td>244000</td>\n",
              "      <td>0.240</td>\n",
              "      <td>1</td>\n",
              "      <td>1gcyHQpBQ1lfXGdhZmWrHP</td>\n",
              "      <td>0.000000</td>\n",
              "      <td>0</td>\n",
              "      <td>0.1130</td>\n",
              "      <td>-12.077</td>\n",
              "      <td>1</td>\n",
              "      <td>champagne problems</td>\n",
              "      <td>69</td>\n",
              "      <td>2021-01-07</td>\n",
              "      <td>0.0377</td>\n",
              "      <td>171.319</td>\n",
              "      <td>0.3200</td>\n",
              "      <td>2021</td>\n",
              "    </tr>\n",
              "    <tr>\n",
              "      <th>174388</th>\n",
              "      <td>0.239000</td>\n",
              "      <td>Roger Fly</td>\n",
              "      <td>0.677</td>\n",
              "      <td>197710</td>\n",
              "      <td>0.460</td>\n",
              "      <td>0</td>\n",
              "      <td>57tgYkWQTNHVFEt6xDKKZj</td>\n",
              "      <td>0.891000</td>\n",
              "      <td>7</td>\n",
              "      <td>0.2150</td>\n",
              "      <td>-12.237</td>\n",
              "      <td>1</td>\n",
              "      <td>Improvisations</td>\n",
              "      <td>0</td>\n",
              "      <td>2020-12-09</td>\n",
              "      <td>0.0258</td>\n",
              "      <td>112.208</td>\n",
              "      <td>0.7470</td>\n",
              "      <td>2020</td>\n",
              "    </tr>\n",
              "  </tbody>\n",
              "</table>\n",
              "<p>174389 rows × 19 columns</p>\n",
              "</div>"
            ],
            "text/plain": [
              "        acousticness                     artists  danceability  duration_ms  \\\n",
              "0           0.991000                 Mamie Smith         0.598       168333   \n",
              "1           0.643000        Screamin Jay Hawkins         0.852       150200   \n",
              "2           0.993000                 Mamie Smith         0.647       163827   \n",
              "3           0.000173             Oscar Velazquez         0.730       422087   \n",
              "4           0.295000                        Mixe         0.704       165224   \n",
              "...              ...                         ...           ...          ...   \n",
              "174384      0.009170  DJ Combo, Sander-7, Tony T         0.792       147615   \n",
              "174385      0.795000                Alessia Cara         0.429       144720   \n",
              "174386      0.806000                   Roger Fly         0.671       218147   \n",
              "174387      0.920000                Taylor Swift         0.462       244000   \n",
              "174388      0.239000                   Roger Fly         0.677       197710   \n",
              "\n",
              "        energy  explicit                      id  instrumentalness  key  \\\n",
              "0        0.224         0  0cS0A1fUEUd1EW3FcF8AEI          0.000522    5   \n",
              "1        0.517         0  0hbkKFIJm7Z05H8Zl9w30f          0.026400    5   \n",
              "2        0.186         0  11m7laMUgmOKqI3oYzuhne          0.000018    0   \n",
              "3        0.798         0  19Lc5SfJJ5O1oaxY0fpwfh          0.801000    2   \n",
              "4        0.707         1  2hJjbsLCytGsnAHfdsLejp          0.000246   10   \n",
              "...        ...       ...                     ...               ...  ...   \n",
              "174384   0.866         0  46LhBf6TvYjZU2SMvGZAbn          0.000060    6   \n",
              "174385   0.211         0  7tue2Wemjd0FZzRtDrQFZd          0.000000    4   \n",
              "174386   0.589         0  48Qj61hOdYmUCFJbpQ29Ob          0.920000    4   \n",
              "174387   0.240         1  1gcyHQpBQ1lfXGdhZmWrHP          0.000000    0   \n",
              "174388   0.460         0  57tgYkWQTNHVFEt6xDKKZj          0.891000    7   \n",
              "\n",
              "        liveness  loudness  mode  \\\n",
              "0         0.3790   -12.628     0   \n",
              "1         0.0809    -7.261     0   \n",
              "2         0.5190   -12.098     1   \n",
              "3         0.1280    -7.311     1   \n",
              "4         0.4020    -6.036     0   \n",
              "...          ...       ...   ...   \n",
              "174384    0.1780    -5.089     0   \n",
              "174385    0.1960   -11.665     1   \n",
              "174386    0.1130   -12.393     0   \n",
              "174387    0.1130   -12.077     1   \n",
              "174388    0.2150   -12.237     1   \n",
              "\n",
              "                                                     name  popularity  \\\n",
              "0                                Keep A Song In Your Soul          12   \n",
              "1                                    I Put A Spell On You           7   \n",
              "2                                            Golfing Papa           4   \n",
              "3       True House Music - Xavier Santos & Carlos Gomi...          17   \n",
              "4                                               Xuniverxe           2   \n",
              "...                                                   ...         ...   \n",
              "174384                                            The One           0   \n",
              "174385                                      A Little More           0   \n",
              "174386                                           Together           0   \n",
              "174387                                 champagne problems          69   \n",
              "174388                                     Improvisations           0   \n",
              "\n",
              "       release_date  speechiness    tempo  valence  year  \n",
              "0              1920       0.0936  149.976   0.6340  1920  \n",
              "1        1920-01-05       0.0534   86.889   0.9500  1920  \n",
              "2              1920       0.1740   97.600   0.6890  1920  \n",
              "3        1920-01-01       0.0425  127.997   0.0422  1920  \n",
              "4        1920-10-01       0.0768  122.076   0.2990  1920  \n",
              "...             ...          ...      ...      ...   ...  \n",
              "174384   2020-12-25       0.0356  125.972   0.1860  2020  \n",
              "174385   2021-01-22       0.0360   94.710   0.2280  2021  \n",
              "174386   2020-12-09       0.0282  108.058   0.7140  2020  \n",
              "174387   2021-01-07       0.0377  171.319   0.3200  2021  \n",
              "174388   2020-12-09       0.0258  112.208   0.7470  2020  \n",
              "\n",
              "[174389 rows x 19 columns]"
            ]
          },
          "execution_count": 11,
          "metadata": {},
          "output_type": "execute_result"
        }
      ],
      "source": [
        "spotify_data_df_clean_artists"
      ]
    },
    {
      "cell_type": "code",
      "execution_count": 12,
      "metadata": {
        "id": "66x7mix5M964",
        "scrolled": true
      },
      "outputs": [
        {
          "data": {
            "text/plain": [
              "174389"
            ]
          },
          "execution_count": 12,
          "metadata": {},
          "output_type": "execute_result"
        }
      ],
      "source": [
        "# drop Null values in the df if any\n",
        "spotify_data_df_clean =spotify_data_df_clean_artists.dropna(how='any')\n",
        "spotify_data_df_clean.shape[0]"
      ]
    },
    {
      "cell_type": "markdown",
      "metadata": {
        "id": "S_m_smzkM964"
      },
      "source": [
        "**Note** : None of the rows were dropped so dataframe has no Null values\n",
        "\n",
        "All the features in interest have expected dtypes hence, no columns need any datatype conversion."
      ]
    },
    {
      "cell_type": "markdown",
      "metadata": {
        "id": "onRN6sD-M964"
      },
      "source": [
        "# **Part 2: Descriptive Statis -  Initial Analysis after Cleanup**"
      ]
    },
    {
      "cell_type": "code",
      "execution_count": 13,
      "metadata": {
        "id": "Fe5_pwIRM964"
      },
      "outputs": [
        {
          "data": {
            "text/html": [
              "<div>\n",
              "<style scoped>\n",
              "    .dataframe tbody tr th:only-of-type {\n",
              "        vertical-align: middle;\n",
              "    }\n",
              "\n",
              "    .dataframe tbody tr th {\n",
              "        vertical-align: top;\n",
              "    }\n",
              "\n",
              "    .dataframe thead th {\n",
              "        text-align: right;\n",
              "    }\n",
              "</style>\n",
              "<table border=\"1\" class=\"dataframe\">\n",
              "  <thead>\n",
              "    <tr style=\"text-align: right;\">\n",
              "      <th></th>\n",
              "      <th>acousticness</th>\n",
              "      <th>danceability</th>\n",
              "      <th>duration_ms</th>\n",
              "      <th>energy</th>\n",
              "      <th>explicit</th>\n",
              "      <th>instrumentalness</th>\n",
              "      <th>key</th>\n",
              "      <th>liveness</th>\n",
              "      <th>loudness</th>\n",
              "      <th>mode</th>\n",
              "      <th>popularity</th>\n",
              "      <th>speechiness</th>\n",
              "      <th>tempo</th>\n",
              "      <th>valence</th>\n",
              "      <th>year</th>\n",
              "    </tr>\n",
              "  </thead>\n",
              "  <tbody>\n",
              "    <tr>\n",
              "      <th>count</th>\n",
              "      <td>174389.000000</td>\n",
              "      <td>174389.000000</td>\n",
              "      <td>1.743890e+05</td>\n",
              "      <td>174389.000000</td>\n",
              "      <td>174389.000000</td>\n",
              "      <td>174389.000000</td>\n",
              "      <td>174389.000000</td>\n",
              "      <td>174389.000000</td>\n",
              "      <td>174389.000000</td>\n",
              "      <td>174389.000000</td>\n",
              "      <td>174389.000000</td>\n",
              "      <td>174389.000000</td>\n",
              "      <td>174389.000000</td>\n",
              "      <td>174389.000000</td>\n",
              "      <td>174389.000000</td>\n",
              "    </tr>\n",
              "    <tr>\n",
              "      <th>mean</th>\n",
              "      <td>0.499228</td>\n",
              "      <td>0.536758</td>\n",
              "      <td>2.328100e+05</td>\n",
              "      <td>0.482721</td>\n",
              "      <td>0.068135</td>\n",
              "      <td>0.197252</td>\n",
              "      <td>5.205305</td>\n",
              "      <td>0.211123</td>\n",
              "      <td>-11.750865</td>\n",
              "      <td>0.702384</td>\n",
              "      <td>25.693381</td>\n",
              "      <td>0.105729</td>\n",
              "      <td>117.006500</td>\n",
              "      <td>0.524533</td>\n",
              "      <td>1977.061764</td>\n",
              "    </tr>\n",
              "    <tr>\n",
              "      <th>std</th>\n",
              "      <td>0.379936</td>\n",
              "      <td>0.176025</td>\n",
              "      <td>1.483958e+05</td>\n",
              "      <td>0.272685</td>\n",
              "      <td>0.251978</td>\n",
              "      <td>0.334574</td>\n",
              "      <td>3.518292</td>\n",
              "      <td>0.180493</td>\n",
              "      <td>5.691591</td>\n",
              "      <td>0.457211</td>\n",
              "      <td>21.872740</td>\n",
              "      <td>0.182260</td>\n",
              "      <td>30.254178</td>\n",
              "      <td>0.264477</td>\n",
              "      <td>26.907950</td>\n",
              "    </tr>\n",
              "    <tr>\n",
              "      <th>min</th>\n",
              "      <td>0.000000</td>\n",
              "      <td>0.000000</td>\n",
              "      <td>4.937000e+03</td>\n",
              "      <td>0.000000</td>\n",
              "      <td>0.000000</td>\n",
              "      <td>0.000000</td>\n",
              "      <td>0.000000</td>\n",
              "      <td>0.000000</td>\n",
              "      <td>-60.000000</td>\n",
              "      <td>0.000000</td>\n",
              "      <td>0.000000</td>\n",
              "      <td>0.000000</td>\n",
              "      <td>0.000000</td>\n",
              "      <td>0.000000</td>\n",
              "      <td>1920.000000</td>\n",
              "    </tr>\n",
              "    <tr>\n",
              "      <th>25%</th>\n",
              "      <td>0.087700</td>\n",
              "      <td>0.414000</td>\n",
              "      <td>1.661330e+05</td>\n",
              "      <td>0.249000</td>\n",
              "      <td>0.000000</td>\n",
              "      <td>0.000000</td>\n",
              "      <td>2.000000</td>\n",
              "      <td>0.099200</td>\n",
              "      <td>-14.908000</td>\n",
              "      <td>0.000000</td>\n",
              "      <td>1.000000</td>\n",
              "      <td>0.035200</td>\n",
              "      <td>93.931000</td>\n",
              "      <td>0.311000</td>\n",
              "      <td>1955.000000</td>\n",
              "    </tr>\n",
              "    <tr>\n",
              "      <th>50%</th>\n",
              "      <td>0.517000</td>\n",
              "      <td>0.548000</td>\n",
              "      <td>2.057870e+05</td>\n",
              "      <td>0.465000</td>\n",
              "      <td>0.000000</td>\n",
              "      <td>0.000524</td>\n",
              "      <td>5.000000</td>\n",
              "      <td>0.138000</td>\n",
              "      <td>-10.836000</td>\n",
              "      <td>1.000000</td>\n",
              "      <td>25.000000</td>\n",
              "      <td>0.045500</td>\n",
              "      <td>115.816000</td>\n",
              "      <td>0.536000</td>\n",
              "      <td>1977.000000</td>\n",
              "    </tr>\n",
              "    <tr>\n",
              "      <th>75%</th>\n",
              "      <td>0.895000</td>\n",
              "      <td>0.669000</td>\n",
              "      <td>2.657200e+05</td>\n",
              "      <td>0.711000</td>\n",
              "      <td>0.000000</td>\n",
              "      <td>0.252000</td>\n",
              "      <td>8.000000</td>\n",
              "      <td>0.270000</td>\n",
              "      <td>-7.499000</td>\n",
              "      <td>1.000000</td>\n",
              "      <td>42.000000</td>\n",
              "      <td>0.076300</td>\n",
              "      <td>135.011000</td>\n",
              "      <td>0.743000</td>\n",
              "      <td>1999.000000</td>\n",
              "    </tr>\n",
              "    <tr>\n",
              "      <th>max</th>\n",
              "      <td>0.996000</td>\n",
              "      <td>0.988000</td>\n",
              "      <td>5.338302e+06</td>\n",
              "      <td>1.000000</td>\n",
              "      <td>1.000000</td>\n",
              "      <td>1.000000</td>\n",
              "      <td>11.000000</td>\n",
              "      <td>1.000000</td>\n",
              "      <td>3.855000</td>\n",
              "      <td>1.000000</td>\n",
              "      <td>100.000000</td>\n",
              "      <td>0.971000</td>\n",
              "      <td>243.507000</td>\n",
              "      <td>1.000000</td>\n",
              "      <td>2021.000000</td>\n",
              "    </tr>\n",
              "  </tbody>\n",
              "</table>\n",
              "</div>"
            ],
            "text/plain": [
              "        acousticness   danceability   duration_ms         energy  \\\n",
              "count  174389.000000  174389.000000  1.743890e+05  174389.000000   \n",
              "mean        0.499228       0.536758  2.328100e+05       0.482721   \n",
              "std         0.379936       0.176025  1.483958e+05       0.272685   \n",
              "min         0.000000       0.000000  4.937000e+03       0.000000   \n",
              "25%         0.087700       0.414000  1.661330e+05       0.249000   \n",
              "50%         0.517000       0.548000  2.057870e+05       0.465000   \n",
              "75%         0.895000       0.669000  2.657200e+05       0.711000   \n",
              "max         0.996000       0.988000  5.338302e+06       1.000000   \n",
              "\n",
              "            explicit  instrumentalness            key       liveness  \\\n",
              "count  174389.000000     174389.000000  174389.000000  174389.000000   \n",
              "mean        0.068135          0.197252       5.205305       0.211123   \n",
              "std         0.251978          0.334574       3.518292       0.180493   \n",
              "min         0.000000          0.000000       0.000000       0.000000   \n",
              "25%         0.000000          0.000000       2.000000       0.099200   \n",
              "50%         0.000000          0.000524       5.000000       0.138000   \n",
              "75%         0.000000          0.252000       8.000000       0.270000   \n",
              "max         1.000000          1.000000      11.000000       1.000000   \n",
              "\n",
              "            loudness           mode     popularity    speechiness  \\\n",
              "count  174389.000000  174389.000000  174389.000000  174389.000000   \n",
              "mean      -11.750865       0.702384      25.693381       0.105729   \n",
              "std         5.691591       0.457211      21.872740       0.182260   \n",
              "min       -60.000000       0.000000       0.000000       0.000000   \n",
              "25%       -14.908000       0.000000       1.000000       0.035200   \n",
              "50%       -10.836000       1.000000      25.000000       0.045500   \n",
              "75%        -7.499000       1.000000      42.000000       0.076300   \n",
              "max         3.855000       1.000000     100.000000       0.971000   \n",
              "\n",
              "               tempo        valence           year  \n",
              "count  174389.000000  174389.000000  174389.000000  \n",
              "mean      117.006500       0.524533    1977.061764  \n",
              "std        30.254178       0.264477      26.907950  \n",
              "min         0.000000       0.000000    1920.000000  \n",
              "25%        93.931000       0.311000    1955.000000  \n",
              "50%       115.816000       0.536000    1977.000000  \n",
              "75%       135.011000       0.743000    1999.000000  \n",
              "max       243.507000       1.000000    2021.000000  "
            ]
          },
          "execution_count": 13,
          "metadata": {},
          "output_type": "execute_result"
        }
      ],
      "source": [
        "spotify_data_df_clean.describe()"
      ]
    },
    {
      "cell_type": "markdown",
      "metadata": {
        "id": "DHkAYFbuM964"
      },
      "source": [
        "### Basic statistical analysis\n",
        "                       \n",
        "- No. of releases :1,74,389\n",
        "- Start year : 1920             \n",
        "- End Year : 2021   \n",
        "             \n",
        "#### Note :  From the table , we can see that there are records with loudness greater than zero. According to spotify developers site, range is between -60 to 0 db .This could be an error so we need to remove these records."
      ]
    },
    {
      "cell_type": "code",
      "execution_count": 14,
      "metadata": {
        "id": "Zb0CW2jXM965"
      },
      "outputs": [
        {
          "data": {
            "text/html": [
              "<div>\n",
              "<style scoped>\n",
              "    .dataframe tbody tr th:only-of-type {\n",
              "        vertical-align: middle;\n",
              "    }\n",
              "\n",
              "    .dataframe tbody tr th {\n",
              "        vertical-align: top;\n",
              "    }\n",
              "\n",
              "    .dataframe thead th {\n",
              "        text-align: right;\n",
              "    }\n",
              "</style>\n",
              "<table border=\"1\" class=\"dataframe\">\n",
              "  <thead>\n",
              "    <tr style=\"text-align: right;\">\n",
              "      <th></th>\n",
              "      <th>max_loudness</th>\n",
              "      <th>min_loudness</th>\n",
              "    </tr>\n",
              "  </thead>\n",
              "  <tbody>\n",
              "    <tr>\n",
              "      <th>0</th>\n",
              "      <td>-0.007</td>\n",
              "      <td>-60.0</td>\n",
              "    </tr>\n",
              "  </tbody>\n",
              "</table>\n",
              "</div>"
            ],
            "text/plain": [
              "   max_loudness  min_loudness\n",
              "0        -0.007         -60.0"
            ]
          },
          "execution_count": 14,
          "metadata": {},
          "output_type": "execute_result"
        }
      ],
      "source": [
        "spotify_data_df_clean = spotify_data_df_clean[spotify_data_df_clean[\"loudness\"]<0]\n",
        "loudness_after = pd.DataFrame({\n",
        "                        \"max_loudness\":[spotify_data_df_clean[\"loudness\"].max()],\n",
        "                        \"min_loudness\":[spotify_data_df_clean[\"loudness\"].min()]\n",
        "                        })\n",
        "loudness_after"
      ]
    },
    {
      "cell_type": "code",
      "execution_count": 15,
      "metadata": {
        "id": "I2evoHobM965"
      },
      "outputs": [
        {
          "data": {
            "text/html": [
              "<div>\n",
              "<style scoped>\n",
              "    .dataframe tbody tr th:only-of-type {\n",
              "        vertical-align: middle;\n",
              "    }\n",
              "\n",
              "    .dataframe tbody tr th {\n",
              "        vertical-align: top;\n",
              "    }\n",
              "\n",
              "    .dataframe thead th {\n",
              "        text-align: right;\n",
              "    }\n",
              "</style>\n",
              "<table border=\"1\" class=\"dataframe\">\n",
              "  <thead>\n",
              "    <tr style=\"text-align: right;\">\n",
              "      <th></th>\n",
              "      <th>acousticness</th>\n",
              "      <th>artists</th>\n",
              "      <th>danceability</th>\n",
              "      <th>duration_ms</th>\n",
              "      <th>energy</th>\n",
              "      <th>explicit</th>\n",
              "      <th>id</th>\n",
              "      <th>instrumentalness</th>\n",
              "      <th>key</th>\n",
              "      <th>liveness</th>\n",
              "      <th>loudness</th>\n",
              "      <th>mode</th>\n",
              "      <th>name</th>\n",
              "      <th>popularity</th>\n",
              "      <th>release_date</th>\n",
              "      <th>speechiness</th>\n",
              "      <th>tempo</th>\n",
              "      <th>valence</th>\n",
              "      <th>year</th>\n",
              "    </tr>\n",
              "  </thead>\n",
              "  <tbody>\n",
              "    <tr>\n",
              "      <th>0</th>\n",
              "      <td>0.991</td>\n",
              "      <td>Mamie Smith</td>\n",
              "      <td>0.598</td>\n",
              "      <td>168333</td>\n",
              "      <td>0.224</td>\n",
              "      <td>0</td>\n",
              "      <td>0cS0A1fUEUd1EW3FcF8AEI</td>\n",
              "      <td>0.000522</td>\n",
              "      <td>5</td>\n",
              "      <td>0.3790</td>\n",
              "      <td>-12.628</td>\n",
              "      <td>0</td>\n",
              "      <td>Keep A Song In Your Soul</td>\n",
              "      <td>12</td>\n",
              "      <td>1920</td>\n",
              "      <td>0.0936</td>\n",
              "      <td>149.976</td>\n",
              "      <td>0.634</td>\n",
              "      <td>1920</td>\n",
              "    </tr>\n",
              "    <tr>\n",
              "      <th>1</th>\n",
              "      <td>0.643</td>\n",
              "      <td>Screamin Jay Hawkins</td>\n",
              "      <td>0.852</td>\n",
              "      <td>150200</td>\n",
              "      <td>0.517</td>\n",
              "      <td>0</td>\n",
              "      <td>0hbkKFIJm7Z05H8Zl9w30f</td>\n",
              "      <td>0.026400</td>\n",
              "      <td>5</td>\n",
              "      <td>0.0809</td>\n",
              "      <td>-7.261</td>\n",
              "      <td>0</td>\n",
              "      <td>I Put A Spell On You</td>\n",
              "      <td>7</td>\n",
              "      <td>1920-01-05</td>\n",
              "      <td>0.0534</td>\n",
              "      <td>86.889</td>\n",
              "      <td>0.950</td>\n",
              "      <td>1920</td>\n",
              "    </tr>\n",
              "    <tr>\n",
              "      <th>2</th>\n",
              "      <td>0.993</td>\n",
              "      <td>Mamie Smith</td>\n",
              "      <td>0.647</td>\n",
              "      <td>163827</td>\n",
              "      <td>0.186</td>\n",
              "      <td>0</td>\n",
              "      <td>11m7laMUgmOKqI3oYzuhne</td>\n",
              "      <td>0.000018</td>\n",
              "      <td>0</td>\n",
              "      <td>0.5190</td>\n",
              "      <td>-12.098</td>\n",
              "      <td>1</td>\n",
              "      <td>Golfing Papa</td>\n",
              "      <td>4</td>\n",
              "      <td>1920</td>\n",
              "      <td>0.1740</td>\n",
              "      <td>97.600</td>\n",
              "      <td>0.689</td>\n",
              "      <td>1920</td>\n",
              "    </tr>\n",
              "  </tbody>\n",
              "</table>\n",
              "</div>"
            ],
            "text/plain": [
              "   acousticness               artists  danceability  duration_ms  energy  \\\n",
              "0         0.991           Mamie Smith         0.598       168333   0.224   \n",
              "1         0.643  Screamin Jay Hawkins         0.852       150200   0.517   \n",
              "2         0.993           Mamie Smith         0.647       163827   0.186   \n",
              "\n",
              "   explicit                      id  instrumentalness  key  liveness  \\\n",
              "0         0  0cS0A1fUEUd1EW3FcF8AEI          0.000522    5    0.3790   \n",
              "1         0  0hbkKFIJm7Z05H8Zl9w30f          0.026400    5    0.0809   \n",
              "2         0  11m7laMUgmOKqI3oYzuhne          0.000018    0    0.5190   \n",
              "\n",
              "   loudness  mode                      name  popularity release_date  \\\n",
              "0   -12.628     0  Keep A Song In Your Soul          12         1920   \n",
              "1    -7.261     0      I Put A Spell On You           7   1920-01-05   \n",
              "2   -12.098     1              Golfing Papa           4         1920   \n",
              "\n",
              "   speechiness    tempo  valence  year  \n",
              "0       0.0936  149.976    0.634  1920  \n",
              "1       0.0534   86.889    0.950  1920  \n",
              "2       0.1740   97.600    0.689  1920  "
            ]
          },
          "execution_count": 15,
          "metadata": {},
          "output_type": "execute_result"
        }
      ],
      "source": [
        "spotify_data_df_clean.head(3)"
      ]
    },
    {
      "cell_type": "code",
      "execution_count": 16,
      "metadata": {
        "id": "Pg7YbRWU3DEA"
      },
      "outputs": [],
      "source": [
        "ideal_order = ['id','name','year', 'artists', 'duration_ms',  'release_date',\n",
        "               'energy', 'acousticness', 'danceability',\n",
        "               'explicit', 'instrumentalness', 'key', 'liveness', 'loudness',\n",
        "               'mode', 'popularity', 'speechiness', 'tempo',\n",
        "               'valence' ]\n",
        "spotify_df = spotify_data_df_clean[ideal_order]"
      ]
    },
    {
      "cell_type": "code",
      "execution_count": 17,
      "metadata": {
        "id": "6LirIrRM3i7k"
      },
      "outputs": [
        {
          "data": {
            "text/html": [
              "<div>\n",
              "<style scoped>\n",
              "    .dataframe tbody tr th:only-of-type {\n",
              "        vertical-align: middle;\n",
              "    }\n",
              "\n",
              "    .dataframe tbody tr th {\n",
              "        vertical-align: top;\n",
              "    }\n",
              "\n",
              "    .dataframe thead th {\n",
              "        text-align: right;\n",
              "    }\n",
              "</style>\n",
              "<table border=\"1\" class=\"dataframe\">\n",
              "  <thead>\n",
              "    <tr style=\"text-align: right;\">\n",
              "      <th></th>\n",
              "      <th>id</th>\n",
              "      <th>name</th>\n",
              "      <th>year</th>\n",
              "      <th>artists</th>\n",
              "      <th>duration_ms</th>\n",
              "      <th>release_date</th>\n",
              "      <th>energy</th>\n",
              "      <th>acousticness</th>\n",
              "      <th>danceability</th>\n",
              "      <th>explicit</th>\n",
              "      <th>instrumentalness</th>\n",
              "      <th>key</th>\n",
              "      <th>liveness</th>\n",
              "      <th>loudness</th>\n",
              "      <th>mode</th>\n",
              "      <th>popularity</th>\n",
              "      <th>speechiness</th>\n",
              "      <th>tempo</th>\n",
              "      <th>valence</th>\n",
              "    </tr>\n",
              "  </thead>\n",
              "  <tbody>\n",
              "    <tr>\n",
              "      <th>0</th>\n",
              "      <td>0cS0A1fUEUd1EW3FcF8AEI</td>\n",
              "      <td>Keep A Song In Your Soul</td>\n",
              "      <td>1920</td>\n",
              "      <td>Mamie Smith</td>\n",
              "      <td>168333</td>\n",
              "      <td>1920</td>\n",
              "      <td>0.224</td>\n",
              "      <td>0.991000</td>\n",
              "      <td>0.598</td>\n",
              "      <td>0</td>\n",
              "      <td>0.000522</td>\n",
              "      <td>5</td>\n",
              "      <td>0.3790</td>\n",
              "      <td>-12.628</td>\n",
              "      <td>0</td>\n",
              "      <td>12</td>\n",
              "      <td>0.0936</td>\n",
              "      <td>149.976</td>\n",
              "      <td>0.6340</td>\n",
              "    </tr>\n",
              "    <tr>\n",
              "      <th>1</th>\n",
              "      <td>0hbkKFIJm7Z05H8Zl9w30f</td>\n",
              "      <td>I Put A Spell On You</td>\n",
              "      <td>1920</td>\n",
              "      <td>Screamin Jay Hawkins</td>\n",
              "      <td>150200</td>\n",
              "      <td>1920-01-05</td>\n",
              "      <td>0.517</td>\n",
              "      <td>0.643000</td>\n",
              "      <td>0.852</td>\n",
              "      <td>0</td>\n",
              "      <td>0.026400</td>\n",
              "      <td>5</td>\n",
              "      <td>0.0809</td>\n",
              "      <td>-7.261</td>\n",
              "      <td>0</td>\n",
              "      <td>7</td>\n",
              "      <td>0.0534</td>\n",
              "      <td>86.889</td>\n",
              "      <td>0.9500</td>\n",
              "    </tr>\n",
              "    <tr>\n",
              "      <th>2</th>\n",
              "      <td>11m7laMUgmOKqI3oYzuhne</td>\n",
              "      <td>Golfing Papa</td>\n",
              "      <td>1920</td>\n",
              "      <td>Mamie Smith</td>\n",
              "      <td>163827</td>\n",
              "      <td>1920</td>\n",
              "      <td>0.186</td>\n",
              "      <td>0.993000</td>\n",
              "      <td>0.647</td>\n",
              "      <td>0</td>\n",
              "      <td>0.000018</td>\n",
              "      <td>0</td>\n",
              "      <td>0.5190</td>\n",
              "      <td>-12.098</td>\n",
              "      <td>1</td>\n",
              "      <td>4</td>\n",
              "      <td>0.1740</td>\n",
              "      <td>97.600</td>\n",
              "      <td>0.6890</td>\n",
              "    </tr>\n",
              "    <tr>\n",
              "      <th>3</th>\n",
              "      <td>19Lc5SfJJ5O1oaxY0fpwfh</td>\n",
              "      <td>True House Music - Xavier Santos &amp; Carlos Gomi...</td>\n",
              "      <td>1920</td>\n",
              "      <td>Oscar Velazquez</td>\n",
              "      <td>422087</td>\n",
              "      <td>1920-01-01</td>\n",
              "      <td>0.798</td>\n",
              "      <td>0.000173</td>\n",
              "      <td>0.730</td>\n",
              "      <td>0</td>\n",
              "      <td>0.801000</td>\n",
              "      <td>2</td>\n",
              "      <td>0.1280</td>\n",
              "      <td>-7.311</td>\n",
              "      <td>1</td>\n",
              "      <td>17</td>\n",
              "      <td>0.0425</td>\n",
              "      <td>127.997</td>\n",
              "      <td>0.0422</td>\n",
              "    </tr>\n",
              "    <tr>\n",
              "      <th>4</th>\n",
              "      <td>2hJjbsLCytGsnAHfdsLejp</td>\n",
              "      <td>Xuniverxe</td>\n",
              "      <td>1920</td>\n",
              "      <td>Mixe</td>\n",
              "      <td>165224</td>\n",
              "      <td>1920-10-01</td>\n",
              "      <td>0.707</td>\n",
              "      <td>0.295000</td>\n",
              "      <td>0.704</td>\n",
              "      <td>1</td>\n",
              "      <td>0.000246</td>\n",
              "      <td>10</td>\n",
              "      <td>0.4020</td>\n",
              "      <td>-6.036</td>\n",
              "      <td>0</td>\n",
              "      <td>2</td>\n",
              "      <td>0.0768</td>\n",
              "      <td>122.076</td>\n",
              "      <td>0.2990</td>\n",
              "    </tr>\n",
              "  </tbody>\n",
              "</table>\n",
              "</div>"
            ],
            "text/plain": [
              "                       id                                               name  \\\n",
              "0  0cS0A1fUEUd1EW3FcF8AEI                           Keep A Song In Your Soul   \n",
              "1  0hbkKFIJm7Z05H8Zl9w30f                               I Put A Spell On You   \n",
              "2  11m7laMUgmOKqI3oYzuhne                                       Golfing Papa   \n",
              "3  19Lc5SfJJ5O1oaxY0fpwfh  True House Music - Xavier Santos & Carlos Gomi...   \n",
              "4  2hJjbsLCytGsnAHfdsLejp                                          Xuniverxe   \n",
              "\n",
              "   year               artists  duration_ms release_date  energy  acousticness  \\\n",
              "0  1920           Mamie Smith       168333         1920   0.224      0.991000   \n",
              "1  1920  Screamin Jay Hawkins       150200   1920-01-05   0.517      0.643000   \n",
              "2  1920           Mamie Smith       163827         1920   0.186      0.993000   \n",
              "3  1920       Oscar Velazquez       422087   1920-01-01   0.798      0.000173   \n",
              "4  1920                  Mixe       165224   1920-10-01   0.707      0.295000   \n",
              "\n",
              "   danceability  explicit  instrumentalness  key  liveness  loudness  mode  \\\n",
              "0         0.598         0          0.000522    5    0.3790   -12.628     0   \n",
              "1         0.852         0          0.026400    5    0.0809    -7.261     0   \n",
              "2         0.647         0          0.000018    0    0.5190   -12.098     1   \n",
              "3         0.730         0          0.801000    2    0.1280    -7.311     1   \n",
              "4         0.704         1          0.000246   10    0.4020    -6.036     0   \n",
              "\n",
              "   popularity  speechiness    tempo  valence  \n",
              "0          12       0.0936  149.976   0.6340  \n",
              "1           7       0.0534   86.889   0.9500  \n",
              "2           4       0.1740   97.600   0.6890  \n",
              "3          17       0.0425  127.997   0.0422  \n",
              "4           2       0.0768  122.076   0.2990  "
            ]
          },
          "execution_count": 17,
          "metadata": {},
          "output_type": "execute_result"
        }
      ],
      "source": [
        "spotify_df.head(5)"
      ]
    },
    {
      "cell_type": "code",
      "execution_count": 18,
      "metadata": {
        "id": "WKf7j6vEM965"
      },
      "outputs": [
        {
          "data": {
            "text/html": [
              "<div>\n",
              "<style scoped>\n",
              "    .dataframe tbody tr th:only-of-type {\n",
              "        vertical-align: middle;\n",
              "    }\n",
              "\n",
              "    .dataframe tbody tr th {\n",
              "        vertical-align: top;\n",
              "    }\n",
              "\n",
              "    .dataframe thead th {\n",
              "        text-align: right;\n",
              "    }\n",
              "</style>\n",
              "<table border=\"1\" class=\"dataframe\">\n",
              "  <thead>\n",
              "    <tr style=\"text-align: right;\">\n",
              "      <th></th>\n",
              "      <th>Total Rows</th>\n",
              "      <th>Total Columns</th>\n",
              "    </tr>\n",
              "  </thead>\n",
              "  <tbody>\n",
              "    <tr>\n",
              "      <th>0</th>\n",
              "      <td>174354</td>\n",
              "      <td>19</td>\n",
              "    </tr>\n",
              "  </tbody>\n",
              "</table>\n",
              "</div>"
            ],
            "text/plain": [
              "   Total Rows  Total Columns\n",
              "0      174354             19"
            ]
          },
          "execution_count": 18,
          "metadata": {},
          "output_type": "execute_result"
        }
      ],
      "source": [
        "rows = spotify_df.shape[0]\n",
        "columns = spotify_df.shape[1]\n",
        "total_after = pd.DataFrame({\n",
        "                     \" Total Rows\": [rows],\n",
        "                     \" Total Columns\": [columns]\n",
        "                    })\n",
        "total_after"
      ]
    },
    {
      "cell_type": "markdown",
      "metadata": {
        "id": "hVoSrrM7M965"
      },
      "source": [
        "## Save Clean Data for Further Analysis"
      ]
    },
    {
      "cell_type": "code",
      "execution_count": 20,
      "metadata": {
        "id": "b__QdJd5M965"
      },
      "outputs": [],
      "source": [
        "out_path = \"spotify_clean.csv\"\n",
        "spotify_df.to_csv(out_path , index=False , encoding=\"utf-8\")"
      ]
    },
    {
      "cell_type": "markdown",
      "metadata": {
        "id": "N-xwcc0K4UNi"
      },
      "source": [
        "# **Part 3: T tests**\n",
        "\n",
        "## Independent Samples t-test\n",
        "\n",
        "\n",
        "### Example:\n",
        "\n",
        "Compare two *independent* groups: explicit=0 vs explicit=1.\n",
        "\n",
        "### Hypothesis:\n",
        "\n",
        "- H0: Explicit and non-explicit songs have the same mean energy.\n",
        "- H1: There is a significant difference in energy between explicit and non-explicit songs.\n"
      ]
    },
    {
      "cell_type": "markdown",
      "metadata": {},
      "source": [
        "## Check Normal Distribution\n",
        "\n",
        "- choices of measures: parametric / non-parametric.\n",
        "\n",
        "> # **Pass this on to Charles to deal with it.**\n"
      ]
    },
    {
      "cell_type": "code",
      "execution_count": 19,
      "metadata": {},
      "outputs": [
        {
          "data": {
            "image/png": "[encoded data removed]",
            "text/plain": [
              "<Figure size 1000x500 with 1 Axes>"
            ]
          },
          "metadata": {},
          "output_type": "display_data"
        },
        {
          "data": {
            "image/png": "[encoded data removed]",
            "text/plain": [
              "<Figure size 1200x500 with 2 Axes>"
            ]
          },
          "metadata": {},
          "output_type": "display_data"
        }
      ],
      "source": [
        "import seaborn as sns\n",
        "import scipy.stats as stats\n",
        "\n",
        "# group the data\n",
        "group1 = spotify_df[spotify_df['explicit'] == 0]['energy']\n",
        "group2 = spotify_df[spotify_df['explicit'] == 1]['energy']\n",
        "\n",
        "# === 1. Histogram with KDE ===\n",
        "plt.figure(figsize=(10, 5))\n",
        "sns.histplot(group1, kde=True, color='blue', label='Non-Explicit', stat='density')\n",
        "sns.histplot(group2, kde=True, color='orange', label='Explicit', stat='density')\n",
        "plt.title('Histogram of Energy by Explicit Flag')\n",
        "plt.xlabel('Energy')\n",
        "plt.ylabel('Density')\n",
        "plt.legend()\n",
        "plt.show()\n",
        "\n",
        "# === 2. QQ Plots ===\n",
        "fig, axes = plt.subplots(1, 2, figsize=(12, 5))\n",
        "\n",
        "# QQ Plot for Non-Explicit\n",
        "stats.probplot(group1, dist=\"norm\", plot=axes[0])\n",
        "axes[0].set_title(\"QQ Plot - Non-Explicit\")\n",
        "\n",
        "# QQ Plot for Explicit\n",
        "stats.probplot(group2, dist=\"norm\", plot=axes[1])\n",
        "axes[1].set_title(\"QQ Plot - Explicit\")\n",
        "\n",
        "plt.tight_layout()\n",
        "plt.show()\n"
      ]
    },
    {
      "cell_type": "code",
      "execution_count": null,
      "metadata": {
        "id": "tgJcXVIT42fq"
      },
      "outputs": [
        {
          "name": "stdout",
          "output_type": "stream",
          "text": [
            "Explicit=0: 162479, Explicit=1: 11875\n",
            "Mean energy (explicit): 0.5860\n",
            "Mean energy (non-explicit): 0.4751\n",
            "Difference: 0.1109\n",
            "T-statistic: -45.1060, P-value: 0.0000\n"
          ]
        }
      ],
      "source": [
        "# import t-test library\n",
        "from scipy.stats import ttest_ind\n",
        "\n",
        "group1 = spotify_df[spotify_df['explicit'] == 0]['energy']\n",
        "group2 = spotify_df[spotify_df['explicit'] == 1]['energy']\n",
        "\n",
        "print(f\"Explicit=0: {len(group1)}, Explicit=1: {len(group2)}\")\n",
        "\n",
        "# check mean difference\n",
        "mean_explicit = group2.mean()\n",
        "mean_non_explicit = group1.mean()\n",
        "\n",
        "print(f\"Mean energy (explicit): {mean_explicit:.4f}\")\n",
        "print(f\"Mean energy (non-explicit): {mean_non_explicit:.4f}\")\n",
        "print(f\"Difference: {mean_explicit - mean_non_explicit:.4f}\")\n",
        "\n",
        "# equal_var -- unequal variance\n",
        "# setting equal_var to False uses Welch's t-test\n",
        "t_stat, p_value = ttest_ind(group1, group2, equal_var=False)\n",
        "\n",
        "print(f\"T-statistic: {t_stat:.4f}, P-value: {p_value:.4f}\")\n"
      ]
    },
    {
      "cell_type": "markdown",
      "metadata": {
        "id": "5UIHAMx_F8ZM"
      },
      "source": [
        "### Plot Mean Difference"
      ]
    },
    {
      "cell_type": "code",
      "execution_count": 25,
      "metadata": {
        "id": "DWvpMb44-Uv9"
      },
      "outputs": [
        {
          "data": {
            "image/png": "[encoded data removed]",
            "text/plain": [
              "<Figure size 640x480 with 1 Axes>"
            ]
          },
          "metadata": {},
          "output_type": "display_data"
        }
      ],
      "source": [
        "import seaborn as sns\n",
        "import matplotlib.pyplot as plt\n",
        "\n",
        "sns.boxplot(x='explicit', y='energy', data=spotify_df)\n",
        "plt.title('Energy Distribution by Explicit Flag')\n",
        "plt.xticks([0, 1], ['Non-Explicit', 'Explicit'])\n",
        "plt.show()\n"
      ]
    },
    {
      "cell_type": "markdown",
      "metadata": {
        "id": "IXduLKFYG1-C"
      },
      "source": [
        "### Degree of Freedom\n",
        "\n",
        "Since groups are very different in size and may have different variances, we use Welch’s t-test, which adjusts the degrees of freedom with the Welch–Satterthwaite formula. This gives a more accurate p-value when assumptions of equal variance are violated.\n"
      ]
    },
    {
      "cell_type": "code",
      "execution_count": 29,
      "metadata": {
        "id": "JALqolYEGrSS"
      },
      "outputs": [
        {
          "name": "stdout",
          "output_type": "stream",
          "text": [
            "Welch's degrees of freedom: 13884.80\n"
          ]
        }
      ],
      "source": [
        "import numpy as np\n",
        "\n",
        "# Get sample sizes\n",
        "n1, n2 = len(group1), len(group2)\n",
        "\n",
        "# Get sample variances\n",
        "s1_sq = np.var(group1, ddof=1)\n",
        "s2_sq = np.var(group2, ddof=1)\n",
        "\n",
        "# Welch–Satterthwaite equation\n",
        "numerator = (s1_sq/n1 + s2_sq/n2)**2\n",
        "denominator = ((s1_sq/n1)**2)/(n1 - 1) + ((s2_sq/n2)**2)/(n2 - 1)\n",
        "df_welch = numerator / denominator\n",
        "\n",
        "print(f\"Welch's degrees of freedom: {df_welch:.2f}\")"
      ]
    },
    {
      "cell_type": "markdown",
      "metadata": {
        "id": "qoKw9hWrGEVg"
      },
      "source": [
        "#### T-tests Interpretation\n",
        "\n",
        "- There is a statistically significant difference in energy between explicit and non-explicit songs.\n",
        "- The negative t-statistic suggests that explicit songs have higher energy (if you did explicit=1 minus explicit=0).\n",
        "- We reject the null hypothesis (p < 0.05).\n",
        "\n",
        "**Note** Welch’s t-test was correctly used because of unequal group sizes and unknown variances."
      ]
    },
    {
      "cell_type": "markdown",
      "metadata": {
        "id": "kv6FGQmNHkLV"
      },
      "source": [
        "## Paired Samples t-test\n",
        "\n",
        "### Example: paired features from the same observation on songs.\n",
        "\n",
        "\n",
        "### Hypothesis:\n",
        "- H0: The danceability of a song and its valence are equal on average.\n",
        "- H1: The average danceability and valence differ within the same song.\n"
      ]
    },
    {
      "cell_type": "code",
      "execution_count": 30,
      "metadata": {
        "id": "tJhJU3lf-kqs"
      },
      "outputs": [
        {
          "name": "stdout",
          "output_type": "stream",
          "text": [
            "Mean Danceability: 0.5368\n",
            "Mean Valence: 0.5245\n",
            "Mean Difference: 0.0122\n",
            "T-statistic: 22.6158, P-value: 0.0000\n"
          ]
        }
      ],
      "source": [
        "# import paired-samples t-test\n",
        "from scipy.stats import ttest_rel\n",
        "\n",
        "# check mean difference\n",
        "mean_dance = spotify_df['danceability'].mean()\n",
        "mean_valence = spotify_df['valence'].mean()\n",
        "\n",
        "print(f\"Mean Danceability: {mean_dance:.4f}\")\n",
        "print(f\"Mean Valence: {mean_valence:.4f}\")\n",
        "print(f\"Mean Difference: {mean_dance - mean_valence:.4f}\")\n",
        "\n",
        "t_stat, p_value = ttest_rel(spotify_df['danceability'], spotify_df['valence'])\n",
        "\n",
        "print(f\"T-statistic: {t_stat:.4f}, P-value: {p_value:.4f}\")\n"
      ]
    },
    {
      "cell_type": "markdown",
      "metadata": {
        "id": "Ikjm5btTJULZ"
      },
      "source": [
        "### Plot Mean Difference\n",
        "\n"
      ]
    },
    {
      "cell_type": "code",
      "execution_count": 32,
      "metadata": {
        "id": "bjDM5wviIAai"
      },
      "outputs": [
        {
          "data": {
            "image/png": "[encoded data removed]",
            "text/plain": [
              "<Figure size 640x480 with 1 Axes>"
            ]
          },
          "metadata": {},
          "output_type": "display_data"
        }
      ],
      "source": [
        "\n",
        "# distribution of differences\n",
        "diff = spotify_df['danceability'] - spotify_df['valence']\n",
        "\n",
        "sns.histplot(diff, kde=True)\n",
        "plt.axvline(0, color='red', linestyle='--')\n",
        "plt.title('Distribution of Danceability - Valence')\n",
        "plt.xlabel('Difference')\n",
        "plt.ylabel('Count')\n",
        "plt.show()\n"
      ]
    },
    {
      "cell_type": "markdown",
      "metadata": {
        "id": "OfRZAxabJXiA"
      },
      "source": [
        "#### Paired-samples t-test Interpretation\n",
        "\n",
        "- We reject the null hypothesis: The average danceability and valence scores of songs are not equal.\n",
        "- Since the t-statistic is positive, it suggests: Danceability is significantly greater than valence, on average.\n",
        "\n"
      ]
    },
    {
      "cell_type": "markdown",
      "metadata": {
        "id": "eBmG-1l9JzjM"
      },
      "source": [
        "## One-tailed t-test\n",
        "\n",
        "### Hypothesis (One-tailed):\n",
        "- H0: Popularity of songs from year <= 2010 is greater than or equal to popularity of songs from year > 2010.\n",
        "- H1: Songs from after 2010 are more popular."
      ]
    },
    {
      "cell_type": "code",
      "execution_count": 33,
      "metadata": {
        "id": "N5rvxqbDJ0h6"
      },
      "outputs": [
        {
          "name": "stdout",
          "output_type": "stream",
          "text": [
            "One-tailed p-value: 0.0000\n"
          ]
        }
      ],
      "source": [
        "pre_2010 = spotify_df[spotify_df['year'] <= 2010]['popularity']\n",
        "post_2010 = spotify_df[spotify_df['year'] > 2010]['popularity']\n",
        "\n",
        "t_stat, p_value = ttest_ind(post_2010, pre_2010, equal_var=False)\n",
        "\n",
        "# one-tailed: divide p-value by 2 and check direction\n",
        "if t_stat > 0:\n",
        "    p_one_tailed = p_value / 2\n",
        "else:\n",
        "    p_one_tailed = 1 - (p_value / 2)\n",
        "\n",
        "print(f\"One-tailed p-value: {p_one_tailed:.4f}\")\n"
      ]
    },
    {
      "cell_type": "markdown",
      "metadata": {
        "id": "z9f1oQzpKwz8"
      },
      "source": [
        "### Plot Difference"
      ]
    },
    {
      "cell_type": "code",
      "execution_count": 26,
      "metadata": {
        "id": "OWymu-TNKTZu"
      },
      "outputs": [
        {
          "name": "stderr",
          "output_type": "stream",
          "text": [
            "/var/folders/2z/c8nx_d8n7mlfq33dzjwb3qh00000gn/T/ipykernel_90357/836487975.py:1: SettingWithCopyWarning: \n",
            "A value is trying to be set on a copy of a slice from a DataFrame.\n",
            "Try using .loc[row_indexer,col_indexer] = value instead\n",
            "\n",
            "See the caveats in the documentation: https://pandas.pydata.org/pandas-docs/stable/user_guide/indexing.html#returning-a-view-versus-a-copy\n",
            "  spotify_df['era'] = spotify_df['year'].apply(lambda x: 'Pre-2010' if x <= 2010 else 'Post-2010')\n"
          ]
        },
        {
          "data": {
            "image/png": "[encoded data removed]",
            "text/plain": [
              "<Figure size 640x480 with 1 Axes>"
            ]
          },
          "metadata": {},
          "output_type": "display_data"
        }
      ],
      "source": [
        "spotify_df['era'] = spotify_df['year'].apply(lambda x: 'Pre-2010' if x <= 2010 else 'Post-2010')\n",
        "\n",
        "sns.boxplot(x='era', y='popularity', data=spotify_df)\n",
        "plt.title('Popularity: Pre-2010 vs Post-2010')\n",
        "plt.xlabel('Era')\n",
        "plt.ylabel('Popularity')\n",
        "plt.show()"
      ]
    },
    {
      "cell_type": "code",
      "execution_count": 27,
      "metadata": {
        "id": "rajEzvMgKKzM"
      },
      "outputs": [
        {
          "data": {
            "image/png": "[encoded data removed]",
            "text/plain": [
              "<Figure size 640x480 with 1 Axes>"
            ]
          },
          "metadata": {},
          "output_type": "display_data"
        }
      ],
      "source": [
        "means = spotify_df.groupby('era')['popularity'].mean()\n",
        "stds = spotify_df.groupby('era')['popularity'].std()\n",
        "counts = spotify_df.groupby('era')['popularity'].count()\n",
        "sems = stds / np.sqrt(counts)  # standard error of mean\n",
        "\n",
        "means.plot(kind='bar', yerr=sems, capsize=4, color=['gray', 'green'])\n",
        "plt.title('Mean Popularity by Era (± SEM)')\n",
        "plt.ylabel('Popularity')\n",
        "plt.show()"
      ]
    },
    {
      "cell_type": "markdown",
      "metadata": {
        "id": "SpdvuHneLL1l"
      },
      "source": [
        "### Interpretation\n",
        "\n",
        "A one-tailed t-test is appropriate when the hypothesis has a direction — whether post-2010 songs are more popular than pre-2010.\n",
        "\n",
        "The extremely low p-value shows the result is significant, and the plots show a clear shift in popularity."
      ]
    },
    {
      "cell_type": "markdown",
      "metadata": {
        "id": "sk5OQNvdLVFV"
      },
      "source": [
        "# **Part 4: ANOVA**\n",
        "\n",
        "\n",
        "### Example: Testing 3 or more groups.\n",
        "\n",
        "### Hypothesis:\n",
        "- H0: The mean tempo is the same across all keys (0–11).\n",
        "- H1: At least one key group has a significantly different mean tempo.\n"
      ]
    },
    {
      "cell_type": "code",
      "execution_count": 36,
      "metadata": {
        "id": "reEneahPLUK-"
      },
      "outputs": [
        {
          "name": "stdout",
          "output_type": "stream",
          "text": [
            "F-statistic: 33.1774, P-value: 0.0000\n"
          ]
        }
      ],
      "source": [
        "from scipy.stats import f_oneway\n",
        "\n",
        "# group by 'key' (12 groups)\n",
        "groups = [group['tempo'].values for _, group in spotify_df.groupby('key')]\n",
        "\n",
        "f_stat, p_value = f_oneway(*groups)\n",
        "\n",
        "print(f\"F-statistic: {f_stat:.4f}, P-value: {p_value:.4f}\")\n"
      ]
    },
    {
      "cell_type": "markdown",
      "metadata": {
        "id": "erznYbiajWfz"
      },
      "source": [
        "#### Interpretation\n",
        "\n",
        "p < 0.001\n",
        "\n",
        "There is a statistically significant difference in the mean value of the dependent variable across at least one of the groups in the independent variable."
      ]
    },
    {
      "cell_type": "code",
      "execution_count": 37,
      "metadata": {
        "id": "acmwN755gi-r"
      },
      "outputs": [
        {
          "name": "stdout",
          "output_type": "stream",
          "text": [
            "                sum_sq        df          F        PR(>F)       mean_sq  \\\n",
            "C(key)    3.332958e+05      11.0  33.177446  1.985443e-71  30299.614250   \n",
            "Residual  1.592195e+08  174342.0        NaN           NaN    913.259395   \n",
            "\n",
            "            eta_sq  \n",
            "C(key)    0.002089  \n",
            "Residual  0.997911  \n"
          ]
        }
      ],
      "source": [
        "import statsmodels.api as sm\n",
        "from statsmodels.formula.api import ols\n",
        "\n",
        "# treat the variable key as a categorical factor (not numeric) -- variation between groups.\n",
        "model = ols('tempo ~ C(key)', data=spotify_df).fit()\n",
        "\n",
        "# Get full ANOVA table\n",
        "anova_table = sm.stats.anova_lm(model, typ=2)\n",
        "anova_table['mean_sq'] = anova_table['sum_sq'] / anova_table['df']\n",
        "anova_table['eta_sq'] = anova_table['sum_sq'] / anova_table['sum_sq'].sum()\n",
        "\n",
        "print(anova_table)"
      ]
    },
    {
      "cell_type": "markdown",
      "metadata": {
        "id": "pEl5ShnqkHk7"
      },
      "source": [
        "\n",
        "> The F-value of 33.18 tells us the between-group variance (due to key) is much greater than the within-group variance (error). The p-value < 0.001 confirms this is statistically significant. But notice the eta squared: key explains ~2.5% of the total variance in tempo — so it's significant, but not the main factor.\n",
        "\n"
      ]
    },
    {
      "cell_type": "code",
      "execution_count": 38,
      "metadata": {
        "id": "A0esaVf7iaum"
      },
      "outputs": [
        {
          "data": {
            "image/png": "[encoded data removed]",
            "text/plain": [
              "<Figure size 640x480 with 1 Axes>"
            ]
          },
          "metadata": {},
          "output_type": "display_data"
        }
      ],
      "source": [
        "import seaborn as sns\n",
        "import matplotlib.pyplot as plt\n",
        "\n",
        "sns.boxplot(x='key', y='tempo', data=spotify_df)\n",
        "plt.title('Tempo Distribution by Musical Key')\n",
        "# charles if you want you can chage the labels.\n",
        "plt.xlabel('Key')\n",
        "plt.ylabel('Tempo')\n",
        "plt.show()"
      ]
    },
    {
      "cell_type": "markdown",
      "metadata": {
        "id": "mnQ0YjuDjVzA"
      },
      "source": [
        "## Factorial ANOVA (Two way)"
      ]
    },
    {
      "cell_type": "markdown",
      "metadata": {
        "id": "nYOZgRj8krTY"
      },
      "source": [
        "\n",
        "> Does a song’s tempo vary depending on both its musical key and mode (major/minor)?\n",
        "\n",
        "Key = 12 levels (categorical)\n",
        "Mode = 0 (minor), 1 (major)\n",
        "\n",
        "- Test main effects of key and mode\n",
        "- Test interaction effect between key × mode"
      ]
    },
    {
      "cell_type": "code",
      "execution_count": 39,
      "metadata": {
        "id": "JBdvi2rHkpk8"
      },
      "outputs": [
        {
          "name": "stdout",
          "output_type": "stream",
          "text": [
            "                      sum_sq        df          F        PR(>F)       mean_sq  \\\n",
            "C(key)          3.347801e+05      11.0  33.365121  7.268704e-72  30434.556453   \n",
            "C(mode)         2.446628e+03       1.0   2.682216  1.014763e-01   2446.628028   \n",
            "C(key):C(mode)  1.989812e+05      11.0  19.831027  1.340914e-40  18089.204512   \n",
            "Residual        1.590180e+08  174330.0        NaN           NaN    912.166819   \n",
            "\n",
            "                  eta_sq  \n",
            "C(key)          0.002098  \n",
            "C(mode)         0.000015  \n",
            "C(key):C(mode)  0.001247  \n",
            "Residual        0.996639  \n"
          ]
        }
      ],
      "source": [
        "# model: tempo ~ key + mode + key:mode\n",
        "model = ols('tempo ~ C(key) + C(mode) + C(key):C(mode)', data=spotify_df).fit()\n",
        "anova_table = sm.stats.anova_lm(model, typ=2)\n",
        "\n",
        "# add mean square and effect size\n",
        "anova_table['mean_sq'] = anova_table['sum_sq'] / anova_table['df']\n",
        "anova_table['eta_sq'] = anova_table['sum_sq'] / anova_table['sum_sq'].sum()\n",
        "\n",
        "print(anova_table)\n"
      ]
    },
    {
      "cell_type": "code",
      "execution_count": 40,
      "metadata": {
        "id": "0gbNF1sUk59d"
      },
      "outputs": [
        {
          "data": {
            "image/png": "[encoded data removed]",
            "text/plain": [
              "<Figure size 640x480 with 1 Axes>"
            ]
          },
          "metadata": {},
          "output_type": "display_data"
        }
      ],
      "source": [
        "\n",
        "sns.pointplot(x='key', y='tempo', hue='mode', data=spotify_df, dodge=True, markers=['o', 's'], capsize=0.1)\n",
        "plt.title(\"Interaction: Key × Mode on Tempo\")\n",
        "plt.ylabel(\"Tempo\")\n",
        "plt.show()\n"
      ]
    },
    {
      "cell_type": "markdown",
      "metadata": {
        "id": "w2JrDJdNlejF"
      },
      "source": [
        "## Repeated Measures ANOVA\n",
        "\n",
        "### Example:\n",
        "> Within each song, are there significant differences between the following audio features?\n",
        "\n",
        "- danceability\n",
        "- energy\n",
        "- valence\n",
        "\n",
        "This is a within-subject design because each song has all 3 measures."
      ]
    },
    {
      "cell_type": "code",
      "execution_count": 33,
      "metadata": {
        "id": "rv8nkpiEl03u"
      },
      "outputs": [],
      "source": [
        "df_long = spotify_df[['id', 'danceability', 'energy', 'valence']].melt(id_vars='id',\n",
        "                                                               value_vars=['danceability', 'energy', 'valence'],\n",
        "                                                               var_name='feature',\n",
        "                                                               value_name='score')\n"
      ]
    },
    {
      "cell_type": "code",
      "execution_count": 34,
      "metadata": {
        "id": "6EakfJERmU4p"
      },
      "outputs": [],
      "source": [
        "df_long_clean = (\n",
        "    df_long\n",
        "    .groupby(['id', 'feature'], as_index=False)['score']\n",
        "    .mean()\n",
        ")"
      ]
    },
    {
      "cell_type": "code",
      "execution_count": null,
      "metadata": {
        "id": "-NpIaHWynfB1"
      },
      "outputs": [],
      "source": []
    },
    {
      "cell_type": "markdown",
      "metadata": {
        "id": "JsUmY51vm4rO"
      },
      "source": [
        "\n",
        "\n",
        "> **ARG. this is bad and complicated.**\n",
        "\n",
        "Can I just leave to Charles to figure it out by himself?\n",
        "\n"
      ]
    },
    {
      "cell_type": "code",
      "execution_count": 35,
      "metadata": {
        "id": "-X1eKa3xl86R"
      },
      "outputs": [],
      "source": [
        "# from statsmodels.stats.anova import AnovaRM\n",
        "\n",
        "# anova_rm = AnovaRM(df_long_clean, depvar='score', subject='id', within=['feature'])\n",
        "# results = anova_rm.fit()\n",
        "\n",
        "# print(results)"
      ]
    },
    {
      "cell_type": "markdown",
      "metadata": {
        "id": "JA8sLtKPSkTG"
      },
      "source": [
        "# **Part 5: Nonparametric statistcal tests**\n",
        "\n",
        "Test whether there is any relationship in categorical variables.\n",
        "\n",
        "## Chi-Square Test of Independence\n",
        "\n",
        "### Hypothesis:\n",
        "\n",
        "> Is there a relationship between explicit content and mode (major/minor)?\n",
        "\n",
        "- explicit = 0 or 1\n",
        "- mode = 0 (minor) or 1 (major)\n",
        "\n",
        "This data is usually presented in tables of counts."
      ]
    },
    {
      "cell_type": "code",
      "execution_count": 41,
      "metadata": {
        "id": "yBnQKH9EmFor"
      },
      "outputs": [
        {
          "name": "stdout",
          "output_type": "stream",
          "text": [
            "mode          0       1\n",
            "explicit               \n",
            "0         47098  115381\n",
            "1          4791    7084\n"
          ]
        }
      ],
      "source": [
        "from scipy.stats import chi2_contingency\n",
        "\n",
        "# let's make them to a 2*2 table\n",
        "contingency_table = pd.crosstab(spotify_df['explicit'], spotify_df['mode'])\n",
        "\n",
        "print(contingency_table)"
      ]
    },
    {
      "cell_type": "code",
      "execution_count": 42,
      "metadata": {
        "id": "L1VTmI_hT64C"
      },
      "outputs": [
        {
          "name": "stdout",
          "output_type": "stream",
          "text": [
            "Chi-square statistic: 682.4074\n",
            "Degrees of freedom: 1\n",
            "P-value: 0.0000\n"
          ]
        }
      ],
      "source": [
        "chi2, p, dof, expected = chi2_contingency(contingency_table)\n",
        "\n",
        "print(f\"Chi-square statistic: {chi2:.4f}\")\n",
        "print(f\"Degrees of freedom: {dof}\")\n",
        "print(f\"P-value: {p:.4f}\")"
      ]
    },
    {
      "cell_type": "markdown",
      "metadata": {},
      "source": [
        "#### Interpretation\n",
        "\n",
        "-  Since p < 0.05, we reject the null hypothesis which explicit content and musical mode are not independent. \n",
        "- There is a significant relationship between them."
      ]
    }
  ],
  "metadata": {
    "colab": {
      "provenance": []
    },
    "kernelspec": {
      "display_name": "thirty-nine-hundred-hci-ODEVS6EV-py3.13",
      "language": "python",
      "name": "python3"
    },
    "language_info": {
      "codemirror_mode": {
        "name": "ipython",
        "version": 3
      },
      "file_extension": ".py",
      "mimetype": "text/x-python",
      "name": "python",
      "nbconvert_exporter": "python",
      "pygments_lexer": "ipython3",
      "version": "3.13.5"
    }
  },
  "nbformat": 4,
  "nbformat_minor": 0
}
